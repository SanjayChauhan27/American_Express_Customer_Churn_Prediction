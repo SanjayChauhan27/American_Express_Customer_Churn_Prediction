{
 "cells": [
  {
   "cell_type": "markdown",
   "id": "efb6c16e",
   "metadata": {},
   "source": [
    "# American Expresss Credit Card Customers Churn Prediction"
   ]
  },
  {
   "cell_type": "markdown",
   "id": "ec2ca8a6",
   "metadata": {},
   "source": [
    "## Introduction \n",
    "This project is about classifying and predicting whether a customer would churn or not using Machine Learning Classification Techniques. The Project includes Data cleaning, EDA, Development of various predictive models and assessment of all of them and  to come up with the model which gives the best output. Various feature engineering techniques also come into play to optimize the model."
   ]
  },
  {
   "cell_type": "code",
   "execution_count": 1,
   "id": "cb10e762",
   "metadata": {},
   "outputs": [],
   "source": [
    "# necessary libraries\n",
    "import numpy as np, pandas as pd, matplotlib.pyplot as plt, seaborn as sns\n",
    "import warnings \n",
    "warnings.filterwarnings('ignore')\n",
    "sns.set_context('talk')\n",
    "sns.set_style('white')"
   ]
  },
  {
   "cell_type": "markdown",
   "id": "825ee18b",
   "metadata": {},
   "source": [
    "##  Data"
   ]
  },
  {
   "cell_type": "code",
   "execution_count": 2,
   "id": "75e600dc",
   "metadata": {},
   "outputs": [
    {
     "name": "stdout",
     "output_type": "stream",
     "text": [
      "Shape-  (10127, 23)\n",
      "\n",
      "\n",
      "Dtpyes-  \n",
      " int64      10\n",
      "float64     7\n",
      "object      6\n",
      "dtype: int64\n"
     ]
    }
   ],
   "source": [
    "df= pd.read_csv('credit_card_churn.csv')\n",
    "print('Shape- ',df.shape)\n",
    "print('\\n')\n",
    "print('Dtpyes- ','\\n',df.dtypes.value_counts())"
   ]
  },
  {
   "cell_type": "code",
   "execution_count": 3,
   "id": "7e03297d",
   "metadata": {},
   "outputs": [
    {
     "data": {
      "text/html": [
       "<div>\n",
       "<style scoped>\n",
       "    .dataframe tbody tr th:only-of-type {\n",
       "        vertical-align: middle;\n",
       "    }\n",
       "\n",
       "    .dataframe tbody tr th {\n",
       "        vertical-align: top;\n",
       "    }\n",
       "\n",
       "    .dataframe thead th {\n",
       "        text-align: right;\n",
       "    }\n",
       "</style>\n",
       "<table border=\"1\" class=\"dataframe\">\n",
       "  <thead>\n",
       "    <tr style=\"text-align: right;\">\n",
       "      <th></th>\n",
       "      <th>CLIENTNUM</th>\n",
       "      <th>Attrition_Flag</th>\n",
       "      <th>Customer_Age</th>\n",
       "      <th>Gender</th>\n",
       "      <th>Dependent_count</th>\n",
       "      <th>Education_Level</th>\n",
       "      <th>Marital_Status</th>\n",
       "      <th>Income_Category</th>\n",
       "      <th>Card_Category</th>\n",
       "      <th>Months_on_book</th>\n",
       "      <th>...</th>\n",
       "      <th>Credit_Limit</th>\n",
       "      <th>Total_Revolving_Bal</th>\n",
       "      <th>Avg_Open_To_Buy</th>\n",
       "      <th>Total_Amt_Chng_Q4_Q1</th>\n",
       "      <th>Total_Trans_Amt</th>\n",
       "      <th>Total_Trans_Ct</th>\n",
       "      <th>Total_Ct_Chng_Q4_Q1</th>\n",
       "      <th>Avg_Utilization_Ratio</th>\n",
       "      <th>Naive_Bayes_Classifier_Attrition_Flag_Card_Category_Contacts_Count_12_mon_Dependent_count_Education_Level_Months_Inactive_12_mon_1</th>\n",
       "      <th>Naive_Bayes_Classifier_Attrition_Flag_Card_Category_Contacts_Count_12_mon_Dependent_count_Education_Level_Months_Inactive_12_mon_2</th>\n",
       "    </tr>\n",
       "  </thead>\n",
       "  <tbody>\n",
       "    <tr>\n",
       "      <th>1650</th>\n",
       "      <td>716882658</td>\n",
       "      <td>Existing Customer</td>\n",
       "      <td>62</td>\n",
       "      <td>F</td>\n",
       "      <td>2</td>\n",
       "      <td>Graduate</td>\n",
       "      <td>Married</td>\n",
       "      <td>Less than $40K</td>\n",
       "      <td>Blue</td>\n",
       "      <td>51</td>\n",
       "      <td>...</td>\n",
       "      <td>2986.0</td>\n",
       "      <td>1632</td>\n",
       "      <td>1354.0</td>\n",
       "      <td>0.883</td>\n",
       "      <td>2141</td>\n",
       "      <td>55</td>\n",
       "      <td>0.667</td>\n",
       "      <td>0.547</td>\n",
       "      <td>0.000327</td>\n",
       "      <td>0.999670</td>\n",
       "    </tr>\n",
       "    <tr>\n",
       "      <th>6170</th>\n",
       "      <td>789692283</td>\n",
       "      <td>Existing Customer</td>\n",
       "      <td>47</td>\n",
       "      <td>F</td>\n",
       "      <td>5</td>\n",
       "      <td>College</td>\n",
       "      <td>Single</td>\n",
       "      <td>Less than $40K</td>\n",
       "      <td>Blue</td>\n",
       "      <td>34</td>\n",
       "      <td>...</td>\n",
       "      <td>5950.0</td>\n",
       "      <td>0</td>\n",
       "      <td>5950.0</td>\n",
       "      <td>0.440</td>\n",
       "      <td>4655</td>\n",
       "      <td>66</td>\n",
       "      <td>0.784</td>\n",
       "      <td>0.000</td>\n",
       "      <td>0.000181</td>\n",
       "      <td>0.999820</td>\n",
       "    </tr>\n",
       "    <tr>\n",
       "      <th>9415</th>\n",
       "      <td>717439983</td>\n",
       "      <td>Attrited Customer</td>\n",
       "      <td>48</td>\n",
       "      <td>M</td>\n",
       "      <td>2</td>\n",
       "      <td>Graduate</td>\n",
       "      <td>Married</td>\n",
       "      <td>$80K - $120K</td>\n",
       "      <td>Blue</td>\n",
       "      <td>28</td>\n",
       "      <td>...</td>\n",
       "      <td>14774.0</td>\n",
       "      <td>2517</td>\n",
       "      <td>12257.0</td>\n",
       "      <td>0.979</td>\n",
       "      <td>8293</td>\n",
       "      <td>63</td>\n",
       "      <td>0.703</td>\n",
       "      <td>0.170</td>\n",
       "      <td>0.996710</td>\n",
       "      <td>0.003294</td>\n",
       "    </tr>\n",
       "    <tr>\n",
       "      <th>7762</th>\n",
       "      <td>716481408</td>\n",
       "      <td>Existing Customer</td>\n",
       "      <td>38</td>\n",
       "      <td>F</td>\n",
       "      <td>2</td>\n",
       "      <td>Graduate</td>\n",
       "      <td>Single</td>\n",
       "      <td>Less than $40K</td>\n",
       "      <td>Blue</td>\n",
       "      <td>36</td>\n",
       "      <td>...</td>\n",
       "      <td>1461.0</td>\n",
       "      <td>0</td>\n",
       "      <td>1461.0</td>\n",
       "      <td>0.681</td>\n",
       "      <td>4769</td>\n",
       "      <td>76</td>\n",
       "      <td>0.949</td>\n",
       "      <td>0.000</td>\n",
       "      <td>0.000033</td>\n",
       "      <td>0.999970</td>\n",
       "    </tr>\n",
       "    <tr>\n",
       "      <th>9055</th>\n",
       "      <td>719296383</td>\n",
       "      <td>Existing Customer</td>\n",
       "      <td>38</td>\n",
       "      <td>M</td>\n",
       "      <td>2</td>\n",
       "      <td>High School</td>\n",
       "      <td>Single</td>\n",
       "      <td>$60K - $80K</td>\n",
       "      <td>Gold</td>\n",
       "      <td>18</td>\n",
       "      <td>...</td>\n",
       "      <td>34516.0</td>\n",
       "      <td>1494</td>\n",
       "      <td>33022.0</td>\n",
       "      <td>0.588</td>\n",
       "      <td>7885</td>\n",
       "      <td>85</td>\n",
       "      <td>0.635</td>\n",
       "      <td>0.043</td>\n",
       "      <td>0.000214</td>\n",
       "      <td>0.999790</td>\n",
       "    </tr>\n",
       "  </tbody>\n",
       "</table>\n",
       "<p>5 rows × 23 columns</p>\n",
       "</div>"
      ],
      "text/plain": [
       "      CLIENTNUM     Attrition_Flag  Customer_Age Gender  Dependent_count  \\\n",
       "1650  716882658  Existing Customer            62      F                2   \n",
       "6170  789692283  Existing Customer            47      F                5   \n",
       "9415  717439983  Attrited Customer            48      M                2   \n",
       "7762  716481408  Existing Customer            38      F                2   \n",
       "9055  719296383  Existing Customer            38      M                2   \n",
       "\n",
       "     Education_Level Marital_Status Income_Category Card_Category  \\\n",
       "1650        Graduate        Married  Less than $40K          Blue   \n",
       "6170         College         Single  Less than $40K          Blue   \n",
       "9415        Graduate        Married    $80K - $120K          Blue   \n",
       "7762        Graduate         Single  Less than $40K          Blue   \n",
       "9055     High School         Single     $60K - $80K          Gold   \n",
       "\n",
       "      Months_on_book  ...  Credit_Limit  Total_Revolving_Bal  Avg_Open_To_Buy  \\\n",
       "1650              51  ...        2986.0                 1632           1354.0   \n",
       "6170              34  ...        5950.0                    0           5950.0   \n",
       "9415              28  ...       14774.0                 2517          12257.0   \n",
       "7762              36  ...        1461.0                    0           1461.0   \n",
       "9055              18  ...       34516.0                 1494          33022.0   \n",
       "\n",
       "      Total_Amt_Chng_Q4_Q1  Total_Trans_Amt  Total_Trans_Ct  \\\n",
       "1650                 0.883             2141              55   \n",
       "6170                 0.440             4655              66   \n",
       "9415                 0.979             8293              63   \n",
       "7762                 0.681             4769              76   \n",
       "9055                 0.588             7885              85   \n",
       "\n",
       "      Total_Ct_Chng_Q4_Q1  Avg_Utilization_Ratio  \\\n",
       "1650                0.667                  0.547   \n",
       "6170                0.784                  0.000   \n",
       "9415                0.703                  0.170   \n",
       "7762                0.949                  0.000   \n",
       "9055                0.635                  0.043   \n",
       "\n",
       "      Naive_Bayes_Classifier_Attrition_Flag_Card_Category_Contacts_Count_12_mon_Dependent_count_Education_Level_Months_Inactive_12_mon_1  \\\n",
       "1650                                           0.000327                                                                                    \n",
       "6170                                           0.000181                                                                                    \n",
       "9415                                           0.996710                                                                                    \n",
       "7762                                           0.000033                                                                                    \n",
       "9055                                           0.000214                                                                                    \n",
       "\n",
       "      Naive_Bayes_Classifier_Attrition_Flag_Card_Category_Contacts_Count_12_mon_Dependent_count_Education_Level_Months_Inactive_12_mon_2  \n",
       "1650                                           0.999670                                                                                   \n",
       "6170                                           0.999820                                                                                   \n",
       "9415                                           0.003294                                                                                   \n",
       "7762                                           0.999970                                                                                   \n",
       "9055                                           0.999790                                                                                   \n",
       "\n",
       "[5 rows x 23 columns]"
      ]
     },
     "execution_count": 3,
     "metadata": {},
     "output_type": "execute_result"
    }
   ],
   "source": [
    "df.sample(5)"
   ]
  },
  {
   "cell_type": "markdown",
   "id": "46f9c55c",
   "metadata": {},
   "source": [
    "## Data Pre-processing"
   ]
  },
  {
   "cell_type": "code",
   "execution_count": 4,
   "id": "ee5c1908",
   "metadata": {},
   "outputs": [
    {
     "data": {
      "text/plain": [
       "(10127, 20)"
      ]
     },
     "execution_count": 4,
     "metadata": {},
     "output_type": "execute_result"
    }
   ],
   "source": [
    "df.drop(['CLIENTNUM','Naive_Bayes_Classifier_Attrition_Flag_Card_Category_Contacts_Count_12_mon_Dependent_count_Education_Level_Months_Inactive_12_mon_1',\n",
    "         'Naive_Bayes_Classifier_Attrition_Flag_Card_Category_Contacts_Count_12_mon_Dependent_count_Education_Level_Months_Inactive_12_mon_2'],axis=1,inplace=True)\n",
    "\n",
    "df.shape"
   ]
  },
  {
   "cell_type": "code",
   "execution_count": 5,
   "id": "85f063eb",
   "metadata": {},
   "outputs": [
    {
     "data": {
      "text/plain": [
       "Attrition_Flag              0\n",
       "Customer_Age                0\n",
       "Gender                      0\n",
       "Dependent_count             0\n",
       "Education_Level             0\n",
       "Marital_Status              0\n",
       "Income_Category             0\n",
       "Card_Category               0\n",
       "Months_on_book              0\n",
       "Total_Relationship_Count    0\n",
       "Months_Inactive_12_mon      0\n",
       "Contacts_Count_12_mon       0\n",
       "Credit_Limit                0\n",
       "Total_Revolving_Bal         0\n",
       "Avg_Open_To_Buy             0\n",
       "Total_Amt_Chng_Q4_Q1        0\n",
       "Total_Trans_Amt             0\n",
       "Total_Trans_Ct              0\n",
       "Total_Ct_Chng_Q4_Q1         0\n",
       "Avg_Utilization_Ratio       0\n",
       "dtype: int64"
      ]
     },
     "execution_count": 5,
     "metadata": {},
     "output_type": "execute_result"
    }
   ],
   "source": [
    "df.isna().sum()"
   ]
  },
  {
   "cell_type": "code",
   "execution_count": 6,
   "id": "30a35e74",
   "metadata": {},
   "outputs": [
    {
     "data": {
      "text/plain": [
       "0"
      ]
     },
     "execution_count": 6,
     "metadata": {},
     "output_type": "execute_result"
    }
   ],
   "source": [
    "df.duplicated().sum()"
   ]
  },
  {
   "cell_type": "markdown",
   "id": "a1057a67",
   "metadata": {},
   "source": [
    "## EDA \n",
    "We will do analysis in order to find the elements which are resulting into customer churning. In order to avoid the repetition of a code it is better to define a function to give us a visualization of factors we are looking for with respect to Attrition flag. It will save time and will not lead to repetition of same code."
   ]
  },
  {
   "cell_type": "code",
   "execution_count": 7,
   "id": "84c19aaa",
   "metadata": {},
   "outputs": [],
   "source": [
    "def get_eda(column):\n",
    "    frame= df[['Attrition_Flag', column]].groupby(column).value_counts(normalize=True).to_frame(name='Pct').reset_index()\n",
    "    plt.figure(figsize=(12,6))\n",
    "    plt.bar(frame[column],frame['Pct'])\n",
    "    plt.xlabel(column)\n",
    "    plt.ylabel('Percentage')\n",
    "    plt.ylim(0,1)\n",
    "    plt.xticks(rotation=45);\n",
    "    return frame\n",
    "    return "
   ]
  },
  {
   "cell_type": "markdown",
   "id": "38c8070e",
   "metadata": {},
   "source": [
    "### Age of customers with respect to Existing and churned customers "
   ]
  },
  {
   "cell_type": "code",
   "execution_count": 8,
   "id": "1364b99c",
   "metadata": {},
   "outputs": [
    {
     "data": {
      "image/png": "[encoded data removed]",
      "text/plain": [
       "<Figure size 864x360 with 1 Axes>"
      ]
     },
     "metadata": {},
     "output_type": "display_data"
    }
   ],
   "source": [
    "plt.figure(figsize=(12,5))\n",
    "sns.histplot(x= 'Customer_Age', data= df, hue= 'Attrition_Flag');"
   ]
  },
  {
   "cell_type": "markdown",
   "id": "6ae35983",
   "metadata": {},
   "source": [
    "### Which Card Category's Customers are Churning more?"
   ]
  },
  {
   "cell_type": "code",
   "execution_count": 9,
   "id": "d2d2e6dc",
   "metadata": {},
   "outputs": [
    {
     "data": {
      "text/html": [
       "<div>\n",
       "<style scoped>\n",
       "    .dataframe tbody tr th:only-of-type {\n",
       "        vertical-align: middle;\n",
       "    }\n",
       "\n",
       "    .dataframe tbody tr th {\n",
       "        vertical-align: top;\n",
       "    }\n",
       "\n",
       "    .dataframe thead th {\n",
       "        text-align: right;\n",
       "    }\n",
       "</style>\n",
       "<table border=\"1\" class=\"dataframe\">\n",
       "  <thead>\n",
       "    <tr style=\"text-align: right;\">\n",
       "      <th></th>\n",
       "      <th>Card_Category</th>\n",
       "      <th>Attrition_Flag</th>\n",
       "      <th>Pct</th>\n",
       "    </tr>\n",
       "  </thead>\n",
       "  <tbody>\n",
       "    <tr>\n",
       "      <th>0</th>\n",
       "      <td>Blue</td>\n",
       "      <td>Existing Customer</td>\n",
       "      <td>0.839021</td>\n",
       "    </tr>\n",
       "    <tr>\n",
       "      <th>1</th>\n",
       "      <td>Blue</td>\n",
       "      <td>Attrited Customer</td>\n",
       "      <td>0.160979</td>\n",
       "    </tr>\n",
       "    <tr>\n",
       "      <th>2</th>\n",
       "      <td>Gold</td>\n",
       "      <td>Existing Customer</td>\n",
       "      <td>0.818966</td>\n",
       "    </tr>\n",
       "    <tr>\n",
       "      <th>3</th>\n",
       "      <td>Gold</td>\n",
       "      <td>Attrited Customer</td>\n",
       "      <td>0.181034</td>\n",
       "    </tr>\n",
       "    <tr>\n",
       "      <th>4</th>\n",
       "      <td>Platinum</td>\n",
       "      <td>Existing Customer</td>\n",
       "      <td>0.750000</td>\n",
       "    </tr>\n",
       "    <tr>\n",
       "      <th>5</th>\n",
       "      <td>Platinum</td>\n",
       "      <td>Attrited Customer</td>\n",
       "      <td>0.250000</td>\n",
       "    </tr>\n",
       "    <tr>\n",
       "      <th>6</th>\n",
       "      <td>Silver</td>\n",
       "      <td>Existing Customer</td>\n",
       "      <td>0.852252</td>\n",
       "    </tr>\n",
       "    <tr>\n",
       "      <th>7</th>\n",
       "      <td>Silver</td>\n",
       "      <td>Attrited Customer</td>\n",
       "      <td>0.147748</td>\n",
       "    </tr>\n",
       "  </tbody>\n",
       "</table>\n",
       "</div>"
      ],
      "text/plain": [
       "  Card_Category     Attrition_Flag       Pct\n",
       "0          Blue  Existing Customer  0.839021\n",
       "1          Blue  Attrited Customer  0.160979\n",
       "2          Gold  Existing Customer  0.818966\n",
       "3          Gold  Attrited Customer  0.181034\n",
       "4      Platinum  Existing Customer  0.750000\n",
       "5      Platinum  Attrited Customer  0.250000\n",
       "6        Silver  Existing Customer  0.852252\n",
       "7        Silver  Attrited Customer  0.147748"
      ]
     },
     "execution_count": 9,
     "metadata": {},
     "output_type": "execute_result"
    },
    {
     "data": {
      "image/png": "[encoded data removed]",
      "text/plain": [
       "<Figure size 864x432 with 1 Axes>"
      ]
     },
     "metadata": {},
     "output_type": "display_data"
    }
   ],
   "source": [
    "get_eda('Card_Category')"
   ]
  },
  {
   "cell_type": "markdown",
   "id": "d8a6ad61",
   "metadata": {},
   "source": [
    "It is noteable that Platinum Category's customers churning rate is 25% and it is higher than the rest of categories. Other Categories Churning rate is more or less same, in fact Silver Category is performing better among all, it has Churning rate of 14.78% which is less than the rest. "
   ]
  },
  {
   "cell_type": "markdown",
   "id": "44c04eec",
   "metadata": {},
   "source": [
    "### Which gender has a higher churning rate?"
   ]
  },
  {
   "cell_type": "code",
   "execution_count": 10,
   "id": "07adeb75",
   "metadata": {},
   "outputs": [
    {
     "data": {
      "text/html": [
       "<div>\n",
       "<style scoped>\n",
       "    .dataframe tbody tr th:only-of-type {\n",
       "        vertical-align: middle;\n",
       "    }\n",
       "\n",
       "    .dataframe tbody tr th {\n",
       "        vertical-align: top;\n",
       "    }\n",
       "\n",
       "    .dataframe thead th {\n",
       "        text-align: right;\n",
       "    }\n",
       "</style>\n",
       "<table border=\"1\" class=\"dataframe\">\n",
       "  <thead>\n",
       "    <tr style=\"text-align: right;\">\n",
       "      <th></th>\n",
       "      <th>Gender</th>\n",
       "      <th>Attrition_Flag</th>\n",
       "      <th>Pct</th>\n",
       "    </tr>\n",
       "  </thead>\n",
       "  <tbody>\n",
       "    <tr>\n",
       "      <th>0</th>\n",
       "      <td>F</td>\n",
       "      <td>Existing Customer</td>\n",
       "      <td>0.826428</td>\n",
       "    </tr>\n",
       "    <tr>\n",
       "      <th>1</th>\n",
       "      <td>F</td>\n",
       "      <td>Attrited Customer</td>\n",
       "      <td>0.173572</td>\n",
       "    </tr>\n",
       "    <tr>\n",
       "      <th>2</th>\n",
       "      <td>M</td>\n",
       "      <td>Existing Customer</td>\n",
       "      <td>0.853848</td>\n",
       "    </tr>\n",
       "    <tr>\n",
       "      <th>3</th>\n",
       "      <td>M</td>\n",
       "      <td>Attrited Customer</td>\n",
       "      <td>0.146152</td>\n",
       "    </tr>\n",
       "  </tbody>\n",
       "</table>\n",
       "</div>"
      ],
      "text/plain": [
       "  Gender     Attrition_Flag       Pct\n",
       "0      F  Existing Customer  0.826428\n",
       "1      F  Attrited Customer  0.173572\n",
       "2      M  Existing Customer  0.853848\n",
       "3      M  Attrited Customer  0.146152"
      ]
     },
     "execution_count": 10,
     "metadata": {},
     "output_type": "execute_result"
    },
    {
     "data": {
      "image/png": "[encoded data removed]",
      "text/plain": [
       "<Figure size 864x432 with 1 Axes>"
      ]
     },
     "metadata": {},
     "output_type": "display_data"
    }
   ],
   "source": [
    "get_eda('Gender')"
   ]
  },
  {
   "cell_type": "markdown",
   "id": "de54200f",
   "metadata": {},
   "source": [
    "### Does education level of customers indicating any pattern of churning ?"
   ]
  },
  {
   "cell_type": "code",
   "execution_count": 11,
   "id": "90a6bb71",
   "metadata": {},
   "outputs": [
    {
     "data": {
      "text/html": [
       "<div>\n",
       "<style scoped>\n",
       "    .dataframe tbody tr th:only-of-type {\n",
       "        vertical-align: middle;\n",
       "    }\n",
       "\n",
       "    .dataframe tbody tr th {\n",
       "        vertical-align: top;\n",
       "    }\n",
       "\n",
       "    .dataframe thead th {\n",
       "        text-align: right;\n",
       "    }\n",
       "</style>\n",
       "<table border=\"1\" class=\"dataframe\">\n",
       "  <thead>\n",
       "    <tr style=\"text-align: right;\">\n",
       "      <th></th>\n",
       "      <th>Education_Level</th>\n",
       "      <th>Attrition_Flag</th>\n",
       "      <th>Pct</th>\n",
       "    </tr>\n",
       "  </thead>\n",
       "  <tbody>\n",
       "    <tr>\n",
       "      <th>0</th>\n",
       "      <td>College</td>\n",
       "      <td>Existing Customer</td>\n",
       "      <td>0.847976</td>\n",
       "    </tr>\n",
       "    <tr>\n",
       "      <th>1</th>\n",
       "      <td>College</td>\n",
       "      <td>Attrited Customer</td>\n",
       "      <td>0.152024</td>\n",
       "    </tr>\n",
       "    <tr>\n",
       "      <th>2</th>\n",
       "      <td>Doctorate</td>\n",
       "      <td>Existing Customer</td>\n",
       "      <td>0.789357</td>\n",
       "    </tr>\n",
       "    <tr>\n",
       "      <th>3</th>\n",
       "      <td>Doctorate</td>\n",
       "      <td>Attrited Customer</td>\n",
       "      <td>0.210643</td>\n",
       "    </tr>\n",
       "    <tr>\n",
       "      <th>4</th>\n",
       "      <td>Graduate</td>\n",
       "      <td>Existing Customer</td>\n",
       "      <td>0.844309</td>\n",
       "    </tr>\n",
       "    <tr>\n",
       "      <th>5</th>\n",
       "      <td>Graduate</td>\n",
       "      <td>Attrited Customer</td>\n",
       "      <td>0.155691</td>\n",
       "    </tr>\n",
       "    <tr>\n",
       "      <th>6</th>\n",
       "      <td>High School</td>\n",
       "      <td>Existing Customer</td>\n",
       "      <td>0.847988</td>\n",
       "    </tr>\n",
       "    <tr>\n",
       "      <th>7</th>\n",
       "      <td>High School</td>\n",
       "      <td>Attrited Customer</td>\n",
       "      <td>0.152012</td>\n",
       "    </tr>\n",
       "    <tr>\n",
       "      <th>8</th>\n",
       "      <td>Post-Graduate</td>\n",
       "      <td>Existing Customer</td>\n",
       "      <td>0.821705</td>\n",
       "    </tr>\n",
       "    <tr>\n",
       "      <th>9</th>\n",
       "      <td>Post-Graduate</td>\n",
       "      <td>Attrited Customer</td>\n",
       "      <td>0.178295</td>\n",
       "    </tr>\n",
       "    <tr>\n",
       "      <th>10</th>\n",
       "      <td>Uneducated</td>\n",
       "      <td>Existing Customer</td>\n",
       "      <td>0.840619</td>\n",
       "    </tr>\n",
       "    <tr>\n",
       "      <th>11</th>\n",
       "      <td>Uneducated</td>\n",
       "      <td>Attrited Customer</td>\n",
       "      <td>0.159381</td>\n",
       "    </tr>\n",
       "    <tr>\n",
       "      <th>12</th>\n",
       "      <td>Unknown</td>\n",
       "      <td>Existing Customer</td>\n",
       "      <td>0.831468</td>\n",
       "    </tr>\n",
       "    <tr>\n",
       "      <th>13</th>\n",
       "      <td>Unknown</td>\n",
       "      <td>Attrited Customer</td>\n",
       "      <td>0.168532</td>\n",
       "    </tr>\n",
       "  </tbody>\n",
       "</table>\n",
       "</div>"
      ],
      "text/plain": [
       "   Education_Level     Attrition_Flag       Pct\n",
       "0          College  Existing Customer  0.847976\n",
       "1          College  Attrited Customer  0.152024\n",
       "2        Doctorate  Existing Customer  0.789357\n",
       "3        Doctorate  Attrited Customer  0.210643\n",
       "4         Graduate  Existing Customer  0.844309\n",
       "5         Graduate  Attrited Customer  0.155691\n",
       "6      High School  Existing Customer  0.847988\n",
       "7      High School  Attrited Customer  0.152012\n",
       "8    Post-Graduate  Existing Customer  0.821705\n",
       "9    Post-Graduate  Attrited Customer  0.178295\n",
       "10      Uneducated  Existing Customer  0.840619\n",
       "11      Uneducated  Attrited Customer  0.159381\n",
       "12         Unknown  Existing Customer  0.831468\n",
       "13         Unknown  Attrited Customer  0.168532"
      ]
     },
     "execution_count": 11,
     "metadata": {},
     "output_type": "execute_result"
    },
    {
     "data": {
      "image/png": "[encoded data removed]",
      "text/plain": [
       "<Figure size 864x432 with 1 Axes>"
      ]
     },
     "metadata": {},
     "output_type": "display_data"
    }
   ],
   "source": [
    "get_eda('Education_Level')"
   ]
  },
  {
   "cell_type": "markdown",
   "id": "8c9d682c",
   "metadata": {},
   "source": [
    "Doctorate degree holder customers have a high churning rate compared to others. Rest of customers numbers are quite near to each other."
   ]
  },
  {
   "cell_type": "markdown",
   "id": "aff5bf65",
   "metadata": {},
   "source": [
    "### Customers' Marital Status and their Churning rate "
   ]
  },
  {
   "cell_type": "code",
   "execution_count": 12,
   "id": "2b7152ec",
   "metadata": {},
   "outputs": [
    {
     "data": {
      "text/html": [
       "<div>\n",
       "<style scoped>\n",
       "    .dataframe tbody tr th:only-of-type {\n",
       "        vertical-align: middle;\n",
       "    }\n",
       "\n",
       "    .dataframe tbody tr th {\n",
       "        vertical-align: top;\n",
       "    }\n",
       "\n",
       "    .dataframe thead th {\n",
       "        text-align: right;\n",
       "    }\n",
       "</style>\n",
       "<table border=\"1\" class=\"dataframe\">\n",
       "  <thead>\n",
       "    <tr style=\"text-align: right;\">\n",
       "      <th></th>\n",
       "      <th>Marital_Status</th>\n",
       "      <th>Attrition_Flag</th>\n",
       "      <th>Pct</th>\n",
       "    </tr>\n",
       "  </thead>\n",
       "  <tbody>\n",
       "    <tr>\n",
       "      <th>0</th>\n",
       "      <td>Divorced</td>\n",
       "      <td>Existing Customer</td>\n",
       "      <td>0.838235</td>\n",
       "    </tr>\n",
       "    <tr>\n",
       "      <th>1</th>\n",
       "      <td>Divorced</td>\n",
       "      <td>Attrited Customer</td>\n",
       "      <td>0.161765</td>\n",
       "    </tr>\n",
       "    <tr>\n",
       "      <th>2</th>\n",
       "      <td>Married</td>\n",
       "      <td>Existing Customer</td>\n",
       "      <td>0.848731</td>\n",
       "    </tr>\n",
       "    <tr>\n",
       "      <th>3</th>\n",
       "      <td>Married</td>\n",
       "      <td>Attrited Customer</td>\n",
       "      <td>0.151269</td>\n",
       "    </tr>\n",
       "    <tr>\n",
       "      <th>4</th>\n",
       "      <td>Single</td>\n",
       "      <td>Existing Customer</td>\n",
       "      <td>0.830586</td>\n",
       "    </tr>\n",
       "    <tr>\n",
       "      <th>5</th>\n",
       "      <td>Single</td>\n",
       "      <td>Attrited Customer</td>\n",
       "      <td>0.169414</td>\n",
       "    </tr>\n",
       "    <tr>\n",
       "      <th>6</th>\n",
       "      <td>Unknown</td>\n",
       "      <td>Existing Customer</td>\n",
       "      <td>0.827770</td>\n",
       "    </tr>\n",
       "    <tr>\n",
       "      <th>7</th>\n",
       "      <td>Unknown</td>\n",
       "      <td>Attrited Customer</td>\n",
       "      <td>0.172230</td>\n",
       "    </tr>\n",
       "  </tbody>\n",
       "</table>\n",
       "</div>"
      ],
      "text/plain": [
       "  Marital_Status     Attrition_Flag       Pct\n",
       "0       Divorced  Existing Customer  0.838235\n",
       "1       Divorced  Attrited Customer  0.161765\n",
       "2        Married  Existing Customer  0.848731\n",
       "3        Married  Attrited Customer  0.151269\n",
       "4         Single  Existing Customer  0.830586\n",
       "5         Single  Attrited Customer  0.169414\n",
       "6        Unknown  Existing Customer  0.827770\n",
       "7        Unknown  Attrited Customer  0.172230"
      ]
     },
     "execution_count": 12,
     "metadata": {},
     "output_type": "execute_result"
    },
    {
     "data": {
      "image/png": "[encoded data removed]",
      "text/plain": [
       "<Figure size 864x432 with 1 Axes>"
      ]
     },
     "metadata": {},
     "output_type": "display_data"
    }
   ],
   "source": [
    "get_eda('Marital_Status')"
   ]
  },
  {
   "cell_type": "code",
   "execution_count": 13,
   "id": "7fb2dcc3",
   "metadata": {},
   "outputs": [
    {
     "data": {
      "text/html": [
       "<div>\n",
       "<style scoped>\n",
       "    .dataframe tbody tr th:only-of-type {\n",
       "        vertical-align: middle;\n",
       "    }\n",
       "\n",
       "    .dataframe tbody tr th {\n",
       "        vertical-align: top;\n",
       "    }\n",
       "\n",
       "    .dataframe thead th {\n",
       "        text-align: right;\n",
       "    }\n",
       "</style>\n",
       "<table border=\"1\" class=\"dataframe\">\n",
       "  <thead>\n",
       "    <tr style=\"text-align: right;\">\n",
       "      <th></th>\n",
       "      <th>Income_Category</th>\n",
       "      <th>Attrition_Flag</th>\n",
       "      <th>Pct</th>\n",
       "    </tr>\n",
       "  </thead>\n",
       "  <tbody>\n",
       "    <tr>\n",
       "      <th>0</th>\n",
       "      <td>$120K +</td>\n",
       "      <td>Existing Customer</td>\n",
       "      <td>0.826685</td>\n",
       "    </tr>\n",
       "    <tr>\n",
       "      <th>1</th>\n",
       "      <td>$120K +</td>\n",
       "      <td>Attrited Customer</td>\n",
       "      <td>0.173315</td>\n",
       "    </tr>\n",
       "    <tr>\n",
       "      <th>2</th>\n",
       "      <td>$40K - $60K</td>\n",
       "      <td>Existing Customer</td>\n",
       "      <td>0.848603</td>\n",
       "    </tr>\n",
       "    <tr>\n",
       "      <th>3</th>\n",
       "      <td>$40K - $60K</td>\n",
       "      <td>Attrited Customer</td>\n",
       "      <td>0.151397</td>\n",
       "    </tr>\n",
       "    <tr>\n",
       "      <th>4</th>\n",
       "      <td>$60K - $80K</td>\n",
       "      <td>Existing Customer</td>\n",
       "      <td>0.865193</td>\n",
       "    </tr>\n",
       "    <tr>\n",
       "      <th>5</th>\n",
       "      <td>$60K - $80K</td>\n",
       "      <td>Attrited Customer</td>\n",
       "      <td>0.134807</td>\n",
       "    </tr>\n",
       "    <tr>\n",
       "      <th>6</th>\n",
       "      <td>$80K - $120K</td>\n",
       "      <td>Existing Customer</td>\n",
       "      <td>0.842345</td>\n",
       "    </tr>\n",
       "    <tr>\n",
       "      <th>7</th>\n",
       "      <td>$80K - $120K</td>\n",
       "      <td>Attrited Customer</td>\n",
       "      <td>0.157655</td>\n",
       "    </tr>\n",
       "    <tr>\n",
       "      <th>8</th>\n",
       "      <td>Less than $40K</td>\n",
       "      <td>Existing Customer</td>\n",
       "      <td>0.828138</td>\n",
       "    </tr>\n",
       "    <tr>\n",
       "      <th>9</th>\n",
       "      <td>Less than $40K</td>\n",
       "      <td>Attrited Customer</td>\n",
       "      <td>0.171862</td>\n",
       "    </tr>\n",
       "    <tr>\n",
       "      <th>10</th>\n",
       "      <td>Unknown</td>\n",
       "      <td>Existing Customer</td>\n",
       "      <td>0.831835</td>\n",
       "    </tr>\n",
       "    <tr>\n",
       "      <th>11</th>\n",
       "      <td>Unknown</td>\n",
       "      <td>Attrited Customer</td>\n",
       "      <td>0.168165</td>\n",
       "    </tr>\n",
       "  </tbody>\n",
       "</table>\n",
       "</div>"
      ],
      "text/plain": [
       "   Income_Category     Attrition_Flag       Pct\n",
       "0          $120K +  Existing Customer  0.826685\n",
       "1          $120K +  Attrited Customer  0.173315\n",
       "2      $40K - $60K  Existing Customer  0.848603\n",
       "3      $40K - $60K  Attrited Customer  0.151397\n",
       "4      $60K - $80K  Existing Customer  0.865193\n",
       "5      $60K - $80K  Attrited Customer  0.134807\n",
       "6     $80K - $120K  Existing Customer  0.842345\n",
       "7     $80K - $120K  Attrited Customer  0.157655\n",
       "8   Less than $40K  Existing Customer  0.828138\n",
       "9   Less than $40K  Attrited Customer  0.171862\n",
       "10         Unknown  Existing Customer  0.831835\n",
       "11         Unknown  Attrited Customer  0.168165"
      ]
     },
     "execution_count": 13,
     "metadata": {},
     "output_type": "execute_result"
    },
    {
     "data": {
      "image/png": "[encoded data removed]",
      "text/plain": [
       "<Figure size 864x432 with 1 Axes>"
      ]
     },
     "metadata": {},
     "output_type": "display_data"
    }
   ],
   "source": [
    "get_eda('Income_Category')"
   ]
  },
  {
   "cell_type": "markdown",
   "id": "01f0cf12",
   "metadata": {},
   "source": [
    "### Utilization Ratio "
   ]
  },
  {
   "cell_type": "code",
   "execution_count": 14,
   "id": "f707f841",
   "metadata": {},
   "outputs": [
    {
     "data": {
      "image/png": "[encoded data removed]",
      "text/plain": [
       "<Figure size 864x360 with 1 Axes>"
      ]
     },
     "metadata": {},
     "output_type": "display_data"
    }
   ],
   "source": [
    "plt.figure(figsize=(12,5))\n",
    "sns.histplot(x='Avg_Utilization_Ratio',data=df, hue= 'Attrition_Flag');"
   ]
  },
  {
   "cell_type": "markdown",
   "id": "c7375d12",
   "metadata": {},
   "source": [
    "### Credit Limit "
   ]
  },
  {
   "cell_type": "code",
   "execution_count": 15,
   "id": "0478d61e",
   "metadata": {},
   "outputs": [
    {
     "data": {
      "image/png": "[encoded data removed]",
      "text/plain": [
       "<Figure size 864x360 with 1 Axes>"
      ]
     },
     "metadata": {},
     "output_type": "display_data"
    }
   ],
   "source": [
    "plt.figure(figsize=(12,5))\n",
    "sns.histplot(x=df['Credit_Limit'],data=df, hue= 'Attrition_Flag');"
   ]
  },
  {
   "cell_type": "markdown",
   "id": "b0921a4b",
   "metadata": {},
   "source": [
    "### Revolving Balance "
   ]
  },
  {
   "cell_type": "code",
   "execution_count": 16,
   "id": "cb7590a0",
   "metadata": {},
   "outputs": [
    {
     "data": {
      "image/png": "[encoded data removed]",
      "text/plain": [
       "<Figure size 864x360 with 1 Axes>"
      ]
     },
     "metadata": {},
     "output_type": "display_data"
    }
   ],
   "source": [
    "plt.figure(figsize=(12,5))\n",
    "sns.histplot(x=df['Total_Revolving_Bal'],data=df, hue= 'Attrition_Flag');"
   ]
  },
  {
   "cell_type": "markdown",
   "id": "09240c8e",
   "metadata": {},
   "source": [
    "## Feature Engineering"
   ]
  },
  {
   "cell_type": "code",
   "execution_count": 17,
   "id": "ded8a8d1",
   "metadata": {},
   "outputs": [
    {
     "data": {
      "text/plain": [
       "Index(['Customer_Age', 'Dependent_count', 'Months_on_book',\n",
       "       'Total_Relationship_Count', 'Months_Inactive_12_mon',\n",
       "       'Contacts_Count_12_mon', 'Credit_Limit', 'Total_Revolving_Bal',\n",
       "       'Avg_Open_To_Buy', 'Total_Amt_Chng_Q4_Q1', 'Total_Trans_Amt',\n",
       "       'Total_Trans_Ct', 'Total_Ct_Chng_Q4_Q1', 'Avg_Utilization_Ratio'],\n",
       "      dtype='object')"
      ]
     },
     "execution_count": 17,
     "metadata": {},
     "output_type": "execute_result"
    }
   ],
   "source": [
    "num_col= df.select_dtypes(include=[int, float]).columns\n",
    "num_col"
   ]
  },
  {
   "cell_type": "code",
   "execution_count": 18,
   "id": "712ebbfe",
   "metadata": {},
   "outputs": [],
   "source": [
    "from sklearn.preprocessing import LabelBinarizer\n",
    "lb= LabelBinarizer()"
   ]
  },
  {
   "cell_type": "code",
   "execution_count": 19,
   "id": "163d1f2a",
   "metadata": {},
   "outputs": [
    {
     "data": {
      "text/plain": [
       "1    8500\n",
       "0    1627\n",
       "Name: Attrition_Flag, dtype: int64"
      ]
     },
     "execution_count": 19,
     "metadata": {},
     "output_type": "execute_result"
    }
   ],
   "source": [
    "df['Attrition_Flag']= lb.fit_transform(df['Attrition_Flag'])\n",
    "df['Attrition_Flag'].value_counts()"
   ]
  },
  {
   "cell_type": "code",
   "execution_count": 20,
   "id": "a8010973",
   "metadata": {},
   "outputs": [
    {
     "name": "stdout",
     "output_type": "stream",
     "text": [
      "int64      9\n",
      "object     5\n",
      "float64    5\n",
      "int32      1\n",
      "dtype: int64\n"
     ]
    },
    {
     "data": {
      "text/html": [
       "<div>\n",
       "<style scoped>\n",
       "    .dataframe tbody tr th:only-of-type {\n",
       "        vertical-align: middle;\n",
       "    }\n",
       "\n",
       "    .dataframe tbody tr th {\n",
       "        vertical-align: top;\n",
       "    }\n",
       "\n",
       "    .dataframe thead th {\n",
       "        text-align: right;\n",
       "    }\n",
       "</style>\n",
       "<table border=\"1\" class=\"dataframe\">\n",
       "  <thead>\n",
       "    <tr style=\"text-align: right;\">\n",
       "      <th></th>\n",
       "      <th>Attrition_Flag</th>\n",
       "      <th>Customer_Age</th>\n",
       "      <th>Gender</th>\n",
       "      <th>Dependent_count</th>\n",
       "      <th>Education_Level</th>\n",
       "      <th>Marital_Status</th>\n",
       "      <th>Income_Category</th>\n",
       "      <th>Card_Category</th>\n",
       "      <th>Months_on_book</th>\n",
       "      <th>Total_Relationship_Count</th>\n",
       "      <th>Months_Inactive_12_mon</th>\n",
       "      <th>Contacts_Count_12_mon</th>\n",
       "      <th>Credit_Limit</th>\n",
       "      <th>Total_Revolving_Bal</th>\n",
       "      <th>Avg_Open_To_Buy</th>\n",
       "      <th>Total_Amt_Chng_Q4_Q1</th>\n",
       "      <th>Total_Trans_Amt</th>\n",
       "      <th>Total_Trans_Ct</th>\n",
       "      <th>Total_Ct_Chng_Q4_Q1</th>\n",
       "      <th>Avg_Utilization_Ratio</th>\n",
       "    </tr>\n",
       "  </thead>\n",
       "  <tbody>\n",
       "    <tr>\n",
       "      <th>0</th>\n",
       "      <td>1</td>\n",
       "      <td>45</td>\n",
       "      <td>M</td>\n",
       "      <td>3</td>\n",
       "      <td>High School</td>\n",
       "      <td>Married</td>\n",
       "      <td>$60K - $80K</td>\n",
       "      <td>Blue</td>\n",
       "      <td>39</td>\n",
       "      <td>5</td>\n",
       "      <td>1</td>\n",
       "      <td>3</td>\n",
       "      <td>12691.0</td>\n",
       "      <td>777</td>\n",
       "      <td>11914.0</td>\n",
       "      <td>1.335</td>\n",
       "      <td>1144</td>\n",
       "      <td>42</td>\n",
       "      <td>1.625</td>\n",
       "      <td>0.061</td>\n",
       "    </tr>\n",
       "    <tr>\n",
       "      <th>1</th>\n",
       "      <td>1</td>\n",
       "      <td>49</td>\n",
       "      <td>F</td>\n",
       "      <td>5</td>\n",
       "      <td>Graduate</td>\n",
       "      <td>Single</td>\n",
       "      <td>Less than $40K</td>\n",
       "      <td>Blue</td>\n",
       "      <td>44</td>\n",
       "      <td>6</td>\n",
       "      <td>1</td>\n",
       "      <td>2</td>\n",
       "      <td>8256.0</td>\n",
       "      <td>864</td>\n",
       "      <td>7392.0</td>\n",
       "      <td>1.541</td>\n",
       "      <td>1291</td>\n",
       "      <td>33</td>\n",
       "      <td>3.714</td>\n",
       "      <td>0.105</td>\n",
       "    </tr>\n",
       "    <tr>\n",
       "      <th>2</th>\n",
       "      <td>1</td>\n",
       "      <td>51</td>\n",
       "      <td>M</td>\n",
       "      <td>3</td>\n",
       "      <td>Graduate</td>\n",
       "      <td>Married</td>\n",
       "      <td>$80K - $120K</td>\n",
       "      <td>Blue</td>\n",
       "      <td>36</td>\n",
       "      <td>4</td>\n",
       "      <td>1</td>\n",
       "      <td>0</td>\n",
       "      <td>3418.0</td>\n",
       "      <td>0</td>\n",
       "      <td>3418.0</td>\n",
       "      <td>2.594</td>\n",
       "      <td>1887</td>\n",
       "      <td>20</td>\n",
       "      <td>2.333</td>\n",
       "      <td>0.000</td>\n",
       "    </tr>\n",
       "    <tr>\n",
       "      <th>3</th>\n",
       "      <td>1</td>\n",
       "      <td>40</td>\n",
       "      <td>F</td>\n",
       "      <td>4</td>\n",
       "      <td>High School</td>\n",
       "      <td>Unknown</td>\n",
       "      <td>Less than $40K</td>\n",
       "      <td>Blue</td>\n",
       "      <td>34</td>\n",
       "      <td>3</td>\n",
       "      <td>4</td>\n",
       "      <td>1</td>\n",
       "      <td>3313.0</td>\n",
       "      <td>2517</td>\n",
       "      <td>796.0</td>\n",
       "      <td>1.405</td>\n",
       "      <td>1171</td>\n",
       "      <td>20</td>\n",
       "      <td>2.333</td>\n",
       "      <td>0.760</td>\n",
       "    </tr>\n",
       "    <tr>\n",
       "      <th>4</th>\n",
       "      <td>1</td>\n",
       "      <td>40</td>\n",
       "      <td>M</td>\n",
       "      <td>3</td>\n",
       "      <td>Uneducated</td>\n",
       "      <td>Married</td>\n",
       "      <td>$60K - $80K</td>\n",
       "      <td>Blue</td>\n",
       "      <td>21</td>\n",
       "      <td>5</td>\n",
       "      <td>1</td>\n",
       "      <td>0</td>\n",
       "      <td>4716.0</td>\n",
       "      <td>0</td>\n",
       "      <td>4716.0</td>\n",
       "      <td>2.175</td>\n",
       "      <td>816</td>\n",
       "      <td>28</td>\n",
       "      <td>2.500</td>\n",
       "      <td>0.000</td>\n",
       "    </tr>\n",
       "  </tbody>\n",
       "</table>\n",
       "</div>"
      ],
      "text/plain": [
       "   Attrition_Flag  Customer_Age Gender  Dependent_count Education_Level  \\\n",
       "0               1            45      M                3     High School   \n",
       "1               1            49      F                5        Graduate   \n",
       "2               1            51      M                3        Graduate   \n",
       "3               1            40      F                4     High School   \n",
       "4               1            40      M                3      Uneducated   \n",
       "\n",
       "  Marital_Status Income_Category Card_Category  Months_on_book  \\\n",
       "0        Married     $60K - $80K          Blue              39   \n",
       "1         Single  Less than $40K          Blue              44   \n",
       "2        Married    $80K - $120K          Blue              36   \n",
       "3        Unknown  Less than $40K          Blue              34   \n",
       "4        Married     $60K - $80K          Blue              21   \n",
       "\n",
       "   Total_Relationship_Count  Months_Inactive_12_mon  Contacts_Count_12_mon  \\\n",
       "0                         5                       1                      3   \n",
       "1                         6                       1                      2   \n",
       "2                         4                       1                      0   \n",
       "3                         3                       4                      1   \n",
       "4                         5                       1                      0   \n",
       "\n",
       "   Credit_Limit  Total_Revolving_Bal  Avg_Open_To_Buy  Total_Amt_Chng_Q4_Q1  \\\n",
       "0       12691.0                  777          11914.0                 1.335   \n",
       "1        8256.0                  864           7392.0                 1.541   \n",
       "2        3418.0                    0           3418.0                 2.594   \n",
       "3        3313.0                 2517            796.0                 1.405   \n",
       "4        4716.0                    0           4716.0                 2.175   \n",
       "\n",
       "   Total_Trans_Amt  Total_Trans_Ct  Total_Ct_Chng_Q4_Q1  Avg_Utilization_Ratio  \n",
       "0             1144              42                1.625                  0.061  \n",
       "1             1291              33                3.714                  0.105  \n",
       "2             1887              20                2.333                  0.000  \n",
       "3             1171              20                2.333                  0.760  \n",
       "4              816              28                2.500                  0.000  "
      ]
     },
     "execution_count": 20,
     "metadata": {},
     "output_type": "execute_result"
    }
   ],
   "source": [
    "print(df.dtypes.value_counts())\n",
    "df.head()"
   ]
  },
  {
   "cell_type": "code",
   "execution_count": 21,
   "id": "b572c4fa",
   "metadata": {},
   "outputs": [
    {
     "data": {
      "text/plain": [
       "Avg_Open_To_Buy             6813\n",
       "Credit_Limit                6205\n",
       "Total_Trans_Amt             5033\n",
       "Total_Revolving_Bal         1974\n",
       "Total_Amt_Chng_Q4_Q1        1158\n",
       "Avg_Utilization_Ratio        964\n",
       "Total_Ct_Chng_Q4_Q1          830\n",
       "Total_Trans_Ct               126\n",
       "Customer_Age                  45\n",
       "Months_on_book                44\n",
       "Contacts_Count_12_mon          7\n",
       "Months_Inactive_12_mon         7\n",
       "Education_Level                7\n",
       "Total_Relationship_Count       6\n",
       "Income_Category                6\n",
       "Dependent_count                6\n",
       "Card_Category                  4\n",
       "Marital_Status                 4\n",
       "Gender                         2\n",
       "Attrition_Flag                 2\n",
       "dtype: int64"
      ]
     },
     "execution_count": 21,
     "metadata": {},
     "output_type": "execute_result"
    }
   ],
   "source": [
    "uniq_vals= df.nunique().sort_values(ascending=False)\n",
    "uniq_vals"
   ]
  },
  {
   "cell_type": "code",
   "execution_count": 22,
   "id": "e6120e2d",
   "metadata": {},
   "outputs": [
    {
     "data": {
      "text/html": [
       "<div>\n",
       "<style scoped>\n",
       "    .dataframe tbody tr th:only-of-type {\n",
       "        vertical-align: middle;\n",
       "    }\n",
       "\n",
       "    .dataframe tbody tr th {\n",
       "        vertical-align: top;\n",
       "    }\n",
       "\n",
       "    .dataframe thead th {\n",
       "        text-align: right;\n",
       "    }\n",
       "</style>\n",
       "<table border=\"1\" class=\"dataframe\">\n",
       "  <thead>\n",
       "    <tr style=\"text-align: right;\">\n",
       "      <th></th>\n",
       "      <th>Gender</th>\n",
       "      <th>Education_Level</th>\n",
       "      <th>Marital_Status</th>\n",
       "      <th>Income_Category</th>\n",
       "      <th>Card_Category</th>\n",
       "    </tr>\n",
       "  </thead>\n",
       "  <tbody>\n",
       "    <tr>\n",
       "      <th>0</th>\n",
       "      <td>M</td>\n",
       "      <td>High School</td>\n",
       "      <td>Married</td>\n",
       "      <td>$60K - $80K</td>\n",
       "      <td>Blue</td>\n",
       "    </tr>\n",
       "    <tr>\n",
       "      <th>1</th>\n",
       "      <td>F</td>\n",
       "      <td>Graduate</td>\n",
       "      <td>Single</td>\n",
       "      <td>Less than $40K</td>\n",
       "      <td>Blue</td>\n",
       "    </tr>\n",
       "    <tr>\n",
       "      <th>2</th>\n",
       "      <td>M</td>\n",
       "      <td>Graduate</td>\n",
       "      <td>Married</td>\n",
       "      <td>$80K - $120K</td>\n",
       "      <td>Blue</td>\n",
       "    </tr>\n",
       "    <tr>\n",
       "      <th>3</th>\n",
       "      <td>F</td>\n",
       "      <td>High School</td>\n",
       "      <td>Unknown</td>\n",
       "      <td>Less than $40K</td>\n",
       "      <td>Blue</td>\n",
       "    </tr>\n",
       "    <tr>\n",
       "      <th>4</th>\n",
       "      <td>M</td>\n",
       "      <td>Uneducated</td>\n",
       "      <td>Married</td>\n",
       "      <td>$60K - $80K</td>\n",
       "      <td>Blue</td>\n",
       "    </tr>\n",
       "  </tbody>\n",
       "</table>\n",
       "</div>"
      ],
      "text/plain": [
       "  Gender Education_Level Marital_Status Income_Category Card_Category\n",
       "0      M     High School        Married     $60K - $80K          Blue\n",
       "1      F        Graduate         Single  Less than $40K          Blue\n",
       "2      M        Graduate        Married    $80K - $120K          Blue\n",
       "3      F     High School        Unknown  Less than $40K          Blue\n",
       "4      M      Uneducated        Married     $60K - $80K          Blue"
      ]
     },
     "execution_count": 22,
     "metadata": {},
     "output_type": "execute_result"
    }
   ],
   "source": [
    "cat_df= df.select_dtypes(include=object).head()\n",
    "cat_df"
   ]
  },
  {
   "cell_type": "code",
   "execution_count": 23,
   "id": "4151b675",
   "metadata": {},
   "outputs": [
    {
     "data": {
      "text/plain": [
       "['Gender', 'Education_Level', 'Marital_Status', 'Card_Category']"
      ]
     },
     "execution_count": 23,
     "metadata": {},
     "output_type": "execute_result"
    }
   ],
   "source": [
    "cat_col= [x for x in cat_df.columns if x not in 'Income_Category']\n",
    "cat_col"
   ]
  },
  {
   "cell_type": "code",
   "execution_count": 24,
   "id": "c948884c",
   "metadata": {
    "scrolled": true
   },
   "outputs": [
    {
     "data": {
      "text/plain": [
       "Less than $40K    3561\n",
       "$40K - $60K       1790\n",
       "$80K - $120K      1535\n",
       "$60K - $80K       1402\n",
       "Unknown           1112\n",
       "$120K +            727\n",
       "Name: Income_Category, dtype: int64"
      ]
     },
     "execution_count": 24,
     "metadata": {},
     "output_type": "execute_result"
    }
   ],
   "source": [
    "df['Income_Category'].value_counts()"
   ]
  },
  {
   "cell_type": "code",
   "execution_count": 25,
   "id": "996443db",
   "metadata": {},
   "outputs": [
    {
     "data": {
      "text/plain": [
       "1    3561\n",
       "2    1790\n",
       "4    1535\n",
       "3    1402\n",
       "0    1112\n",
       "5     727\n",
       "Name: Income_Category, dtype: int64"
      ]
     },
     "execution_count": 25,
     "metadata": {},
     "output_type": "execute_result"
    }
   ],
   "source": [
    "df['Income_Category']= (df['Income_Category'].str.replace('Unknown','0').replace('Less than $40K','1').replace('$40K - $60K','2').\n",
    " replace('$80K - $120K','4').replace('$60K - $80K','3').replace('$120K +','5')).astype(int)\n",
    "df['Income_Category'].value_counts()"
   ]
  },
  {
   "cell_type": "code",
   "execution_count": 26,
   "id": "110a4437",
   "metadata": {},
   "outputs": [],
   "source": [
    "ordinal_col= ['Income_Category']"
   ]
  },
  {
   "cell_type": "code",
   "execution_count": 27,
   "id": "be25b3a1",
   "metadata": {},
   "outputs": [
    {
     "data": {
      "text/plain": [
       "(10127, 29)"
      ]
     },
     "execution_count": 27,
     "metadata": {},
     "output_type": "execute_result"
    }
   ],
   "source": [
    "df_pro= pd.get_dummies(df,columns=cat_col, drop_first=True)\n",
    "df_pro.shape"
   ]
  },
  {
   "cell_type": "code",
   "execution_count": 28,
   "id": "8e90f66d",
   "metadata": {},
   "outputs": [
    {
     "data": {
      "text/html": [
       "<div>\n",
       "<style scoped>\n",
       "    .dataframe tbody tr th:only-of-type {\n",
       "        vertical-align: middle;\n",
       "    }\n",
       "\n",
       "    .dataframe tbody tr th {\n",
       "        vertical-align: top;\n",
       "    }\n",
       "\n",
       "    .dataframe thead th {\n",
       "        text-align: right;\n",
       "    }\n",
       "</style>\n",
       "<table border=\"1\" class=\"dataframe\">\n",
       "  <thead>\n",
       "    <tr style=\"text-align: right;\">\n",
       "      <th></th>\n",
       "      <th>Attrition_Flag</th>\n",
       "      <th>Customer_Age</th>\n",
       "      <th>Dependent_count</th>\n",
       "      <th>Income_Category</th>\n",
       "      <th>Months_on_book</th>\n",
       "      <th>Total_Relationship_Count</th>\n",
       "      <th>Months_Inactive_12_mon</th>\n",
       "      <th>Contacts_Count_12_mon</th>\n",
       "      <th>Credit_Limit</th>\n",
       "      <th>Total_Revolving_Bal</th>\n",
       "      <th>...</th>\n",
       "      <th>Education_Level_High School</th>\n",
       "      <th>Education_Level_Post-Graduate</th>\n",
       "      <th>Education_Level_Uneducated</th>\n",
       "      <th>Education_Level_Unknown</th>\n",
       "      <th>Marital_Status_Married</th>\n",
       "      <th>Marital_Status_Single</th>\n",
       "      <th>Marital_Status_Unknown</th>\n",
       "      <th>Card_Category_Gold</th>\n",
       "      <th>Card_Category_Platinum</th>\n",
       "      <th>Card_Category_Silver</th>\n",
       "    </tr>\n",
       "  </thead>\n",
       "  <tbody>\n",
       "    <tr>\n",
       "      <th>0</th>\n",
       "      <td>1</td>\n",
       "      <td>45</td>\n",
       "      <td>3</td>\n",
       "      <td>3</td>\n",
       "      <td>39</td>\n",
       "      <td>5</td>\n",
       "      <td>1</td>\n",
       "      <td>3</td>\n",
       "      <td>12691.0</td>\n",
       "      <td>777</td>\n",
       "      <td>...</td>\n",
       "      <td>1</td>\n",
       "      <td>0</td>\n",
       "      <td>0</td>\n",
       "      <td>0</td>\n",
       "      <td>1</td>\n",
       "      <td>0</td>\n",
       "      <td>0</td>\n",
       "      <td>0</td>\n",
       "      <td>0</td>\n",
       "      <td>0</td>\n",
       "    </tr>\n",
       "    <tr>\n",
       "      <th>1</th>\n",
       "      <td>1</td>\n",
       "      <td>49</td>\n",
       "      <td>5</td>\n",
       "      <td>1</td>\n",
       "      <td>44</td>\n",
       "      <td>6</td>\n",
       "      <td>1</td>\n",
       "      <td>2</td>\n",
       "      <td>8256.0</td>\n",
       "      <td>864</td>\n",
       "      <td>...</td>\n",
       "      <td>0</td>\n",
       "      <td>0</td>\n",
       "      <td>0</td>\n",
       "      <td>0</td>\n",
       "      <td>0</td>\n",
       "      <td>1</td>\n",
       "      <td>0</td>\n",
       "      <td>0</td>\n",
       "      <td>0</td>\n",
       "      <td>0</td>\n",
       "    </tr>\n",
       "    <tr>\n",
       "      <th>2</th>\n",
       "      <td>1</td>\n",
       "      <td>51</td>\n",
       "      <td>3</td>\n",
       "      <td>4</td>\n",
       "      <td>36</td>\n",
       "      <td>4</td>\n",
       "      <td>1</td>\n",
       "      <td>0</td>\n",
       "      <td>3418.0</td>\n",
       "      <td>0</td>\n",
       "      <td>...</td>\n",
       "      <td>0</td>\n",
       "      <td>0</td>\n",
       "      <td>0</td>\n",
       "      <td>0</td>\n",
       "      <td>1</td>\n",
       "      <td>0</td>\n",
       "      <td>0</td>\n",
       "      <td>0</td>\n",
       "      <td>0</td>\n",
       "      <td>0</td>\n",
       "    </tr>\n",
       "    <tr>\n",
       "      <th>3</th>\n",
       "      <td>1</td>\n",
       "      <td>40</td>\n",
       "      <td>4</td>\n",
       "      <td>1</td>\n",
       "      <td>34</td>\n",
       "      <td>3</td>\n",
       "      <td>4</td>\n",
       "      <td>1</td>\n",
       "      <td>3313.0</td>\n",
       "      <td>2517</td>\n",
       "      <td>...</td>\n",
       "      <td>1</td>\n",
       "      <td>0</td>\n",
       "      <td>0</td>\n",
       "      <td>0</td>\n",
       "      <td>0</td>\n",
       "      <td>0</td>\n",
       "      <td>1</td>\n",
       "      <td>0</td>\n",
       "      <td>0</td>\n",
       "      <td>0</td>\n",
       "    </tr>\n",
       "    <tr>\n",
       "      <th>4</th>\n",
       "      <td>1</td>\n",
       "      <td>40</td>\n",
       "      <td>3</td>\n",
       "      <td>3</td>\n",
       "      <td>21</td>\n",
       "      <td>5</td>\n",
       "      <td>1</td>\n",
       "      <td>0</td>\n",
       "      <td>4716.0</td>\n",
       "      <td>0</td>\n",
       "      <td>...</td>\n",
       "      <td>0</td>\n",
       "      <td>0</td>\n",
       "      <td>1</td>\n",
       "      <td>0</td>\n",
       "      <td>1</td>\n",
       "      <td>0</td>\n",
       "      <td>0</td>\n",
       "      <td>0</td>\n",
       "      <td>0</td>\n",
       "      <td>0</td>\n",
       "    </tr>\n",
       "  </tbody>\n",
       "</table>\n",
       "<p>5 rows × 29 columns</p>\n",
       "</div>"
      ],
      "text/plain": [
       "   Attrition_Flag  Customer_Age  Dependent_count  Income_Category  \\\n",
       "0               1            45                3                3   \n",
       "1               1            49                5                1   \n",
       "2               1            51                3                4   \n",
       "3               1            40                4                1   \n",
       "4               1            40                3                3   \n",
       "\n",
       "   Months_on_book  Total_Relationship_Count  Months_Inactive_12_mon  \\\n",
       "0              39                         5                       1   \n",
       "1              44                         6                       1   \n",
       "2              36                         4                       1   \n",
       "3              34                         3                       4   \n",
       "4              21                         5                       1   \n",
       "\n",
       "   Contacts_Count_12_mon  Credit_Limit  Total_Revolving_Bal  ...  \\\n",
       "0                      3       12691.0                  777  ...   \n",
       "1                      2        8256.0                  864  ...   \n",
       "2                      0        3418.0                    0  ...   \n",
       "3                      1        3313.0                 2517  ...   \n",
       "4                      0        4716.0                    0  ...   \n",
       "\n",
       "   Education_Level_High School  Education_Level_Post-Graduate  \\\n",
       "0                            1                              0   \n",
       "1                            0                              0   \n",
       "2                            0                              0   \n",
       "3                            1                              0   \n",
       "4                            0                              0   \n",
       "\n",
       "   Education_Level_Uneducated  Education_Level_Unknown  \\\n",
       "0                           0                        0   \n",
       "1                           0                        0   \n",
       "2                           0                        0   \n",
       "3                           0                        0   \n",
       "4                           1                        0   \n",
       "\n",
       "   Marital_Status_Married  Marital_Status_Single  Marital_Status_Unknown  \\\n",
       "0                       1                      0                       0   \n",
       "1                       0                      1                       0   \n",
       "2                       1                      0                       0   \n",
       "3                       0                      0                       1   \n",
       "4                       1                      0                       0   \n",
       "\n",
       "   Card_Category_Gold  Card_Category_Platinum  Card_Category_Silver  \n",
       "0                   0                       0                     0  \n",
       "1                   0                       0                     0  \n",
       "2                   0                       0                     0  \n",
       "3                   0                       0                     0  \n",
       "4                   0                       0                     0  \n",
       "\n",
       "[5 rows x 29 columns]"
      ]
     },
     "execution_count": 28,
     "metadata": {},
     "output_type": "execute_result"
    }
   ],
   "source": [
    "df_pro.head()"
   ]
  },
  {
   "cell_type": "code",
   "execution_count": 29,
   "id": "ef2d8191",
   "metadata": {},
   "outputs": [
    {
     "data": {
      "text/plain": [
       "uint8      13\n",
       "int64       9\n",
       "float64     5\n",
       "int32       2\n",
       "dtype: int64"
      ]
     },
     "execution_count": 29,
     "metadata": {},
     "output_type": "execute_result"
    }
   ],
   "source": [
    "df_pro.dtypes.value_counts()"
   ]
  },
  {
   "cell_type": "markdown",
   "id": "05b7eec5",
   "metadata": {},
   "source": [
    "## Correlation "
   ]
  },
  {
   "cell_type": "code",
   "execution_count": 30,
   "id": "98c81131",
   "metadata": {},
   "outputs": [],
   "source": [
    "feat_cols= [x for x in df_pro.columns if x not in 'Attrition_Flag']\n",
    "tar_col= 'Attrition_Flag'"
   ]
  },
  {
   "cell_type": "code",
   "execution_count": 31,
   "id": "c0c6b630",
   "metadata": {},
   "outputs": [
    {
     "data": {
      "image/png": "[encoded data removed]",
      "text/plain": [
       "<Figure size 1008x504 with 1 Axes>"
      ]
     },
     "metadata": {},
     "output_type": "display_data"
    }
   ],
   "source": [
    "corr_df= df_pro[feat_cols].corrwith(df_pro[tar_col]).sort_values(ascending=False)\n",
    "ax= corr_df.plot(kind='bar',figsize=(14,7))\n",
    "ax.set(xlabel='Feature columns',\n",
    "       ylabel='Pearson Correlation', \n",
    "       title= 'Correlation between Feature columns and Target column',\n",
    "       ylim=[-0.25,0.45]);"
   ]
  },
  {
   "cell_type": "markdown",
   "id": "ce2b1c92",
   "metadata": {},
   "source": [
    "## Scaling of features"
   ]
  },
  {
   "cell_type": "code",
   "execution_count": 32,
   "id": "73758a41",
   "metadata": {},
   "outputs": [
    {
     "data": {
      "text/plain": [
       "['Customer_Age',\n",
       " 'Dependent_count',\n",
       " 'Months_on_book',\n",
       " 'Total_Relationship_Count',\n",
       " 'Months_Inactive_12_mon',\n",
       " 'Contacts_Count_12_mon',\n",
       " 'Credit_Limit',\n",
       " 'Total_Revolving_Bal',\n",
       " 'Avg_Open_To_Buy',\n",
       " 'Total_Amt_Chng_Q4_Q1',\n",
       " 'Total_Trans_Amt',\n",
       " 'Total_Trans_Ct',\n",
       " 'Total_Ct_Chng_Q4_Q1',\n",
       " 'Avg_Utilization_Ratio']"
      ]
     },
     "execution_count": 32,
     "metadata": {},
     "output_type": "execute_result"
    }
   ],
   "source": [
    "num_col= list(num_col)\n",
    "num_col"
   ]
  },
  {
   "cell_type": "code",
   "execution_count": 33,
   "id": "f025884a",
   "metadata": {},
   "outputs": [],
   "source": [
    "from sklearn.preprocessing import StandardScaler\n",
    "ss= StandardScaler()"
   ]
  },
  {
   "cell_type": "code",
   "execution_count": 34,
   "id": "ad656b8d",
   "metadata": {},
   "outputs": [],
   "source": [
    "for col in [num_col+ordinal_col]:\n",
    "    df_pro[col]= ss.fit_transform(df_pro[col])"
   ]
  },
  {
   "cell_type": "code",
   "execution_count": 35,
   "id": "e9e0ec43",
   "metadata": {},
   "outputs": [
    {
     "data": {
      "text/html": [
       "<div>\n",
       "<style scoped>\n",
       "    .dataframe tbody tr th:only-of-type {\n",
       "        vertical-align: middle;\n",
       "    }\n",
       "\n",
       "    .dataframe tbody tr th {\n",
       "        vertical-align: top;\n",
       "    }\n",
       "\n",
       "    .dataframe thead th {\n",
       "        text-align: right;\n",
       "    }\n",
       "</style>\n",
       "<table border=\"1\" class=\"dataframe\">\n",
       "  <thead>\n",
       "    <tr style=\"text-align: right;\">\n",
       "      <th></th>\n",
       "      <th>count</th>\n",
       "      <th>mean</th>\n",
       "      <th>std</th>\n",
       "      <th>min</th>\n",
       "      <th>25%</th>\n",
       "      <th>50%</th>\n",
       "      <th>75%</th>\n",
       "      <th>max</th>\n",
       "    </tr>\n",
       "  </thead>\n",
       "  <tbody>\n",
       "    <tr>\n",
       "      <th>Attrition_Flag</th>\n",
       "      <td>10127.0</td>\n",
       "      <td>8.393404e-01</td>\n",
       "      <td>0.367235</td>\n",
       "      <td>0.000000</td>\n",
       "      <td>1.000000</td>\n",
       "      <td>1.000000</td>\n",
       "      <td>1.000000</td>\n",
       "      <td>1.000000</td>\n",
       "    </tr>\n",
       "    <tr>\n",
       "      <th>Customer_Age</th>\n",
       "      <td>10127.0</td>\n",
       "      <td>3.127744e-17</td>\n",
       "      <td>1.000049</td>\n",
       "      <td>-2.535541</td>\n",
       "      <td>-0.664382</td>\n",
       "      <td>-0.040662</td>\n",
       "      <td>0.707802</td>\n",
       "      <td>3.327426</td>\n",
       "    </tr>\n",
       "    <tr>\n",
       "      <th>Dependent_count</th>\n",
       "      <td>10127.0</td>\n",
       "      <td>5.680062e-15</td>\n",
       "      <td>1.000049</td>\n",
       "      <td>-1.806378</td>\n",
       "      <td>-1.036462</td>\n",
       "      <td>-0.266547</td>\n",
       "      <td>0.503368</td>\n",
       "      <td>2.043199</td>\n",
       "    </tr>\n",
       "    <tr>\n",
       "      <th>Income_Category</th>\n",
       "      <td>10127.0</td>\n",
       "      <td>1.771029e-15</td>\n",
       "      <td>1.000049</td>\n",
       "      <td>-1.414457</td>\n",
       "      <td>-0.736292</td>\n",
       "      <td>-0.058127</td>\n",
       "      <td>0.620039</td>\n",
       "      <td>1.976370</td>\n",
       "    </tr>\n",
       "    <tr>\n",
       "      <th>Months_on_book</th>\n",
       "      <td>10127.0</td>\n",
       "      <td>-5.687166e-16</td>\n",
       "      <td>1.000049</td>\n",
       "      <td>-2.871068</td>\n",
       "      <td>-0.617129</td>\n",
       "      <td>0.008965</td>\n",
       "      <td>0.509840</td>\n",
       "      <td>2.513340</td>\n",
       "    </tr>\n",
       "    <tr>\n",
       "      <th>Total_Relationship_Count</th>\n",
       "      <td>10127.0</td>\n",
       "      <td>8.453372e-15</td>\n",
       "      <td>1.000049</td>\n",
       "      <td>-1.809512</td>\n",
       "      <td>-0.522785</td>\n",
       "      <td>0.120579</td>\n",
       "      <td>0.763943</td>\n",
       "      <td>1.407306</td>\n",
       "    </tr>\n",
       "    <tr>\n",
       "      <th>Months_Inactive_12_mon</th>\n",
       "      <td>10127.0</td>\n",
       "      <td>-2.129892e-15</td>\n",
       "      <td>1.000049</td>\n",
       "      <td>-2.316674</td>\n",
       "      <td>-0.337598</td>\n",
       "      <td>-0.337598</td>\n",
       "      <td>0.651940</td>\n",
       "      <td>3.620555</td>\n",
       "    </tr>\n",
       "    <tr>\n",
       "      <th>Contacts_Count_12_mon</th>\n",
       "      <td>10127.0</td>\n",
       "      <td>1.588144e-15</td>\n",
       "      <td>1.000049</td>\n",
       "      <td>-2.219655</td>\n",
       "      <td>-0.411616</td>\n",
       "      <td>-0.411616</td>\n",
       "      <td>0.492404</td>\n",
       "      <td>3.204463</td>\n",
       "    </tr>\n",
       "    <tr>\n",
       "      <th>Credit_Limit</th>\n",
       "      <td>10127.0</td>\n",
       "      <td>9.430893e-16</td>\n",
       "      <td>1.000049</td>\n",
       "      <td>-0.791527</td>\n",
       "      <td>-0.668655</td>\n",
       "      <td>-0.449252</td>\n",
       "      <td>0.267986</td>\n",
       "      <td>2.848054</td>\n",
       "    </tr>\n",
       "    <tr>\n",
       "      <th>Total_Revolving_Bal</th>\n",
       "      <td>10127.0</td>\n",
       "      <td>-1.830898e-15</td>\n",
       "      <td>1.000049</td>\n",
       "      <td>-1.426858</td>\n",
       "      <td>-0.986339</td>\n",
       "      <td>0.138887</td>\n",
       "      <td>0.762241</td>\n",
       "      <td>1.661686</td>\n",
       "    </tr>\n",
       "    <tr>\n",
       "      <th>Avg_Open_To_Buy</th>\n",
       "      <td>10127.0</td>\n",
       "      <td>-4.386159e-17</td>\n",
       "      <td>1.000049</td>\n",
       "      <td>-0.821336</td>\n",
       "      <td>-0.675960</td>\n",
       "      <td>-0.439498</td>\n",
       "      <td>0.262904</td>\n",
       "      <td>2.975375</td>\n",
       "    </tr>\n",
       "    <tr>\n",
       "      <th>Total_Amt_Chng_Q4_Q1</th>\n",
       "      <td>10127.0</td>\n",
       "      <td>2.801869e-16</td>\n",
       "      <td>1.000049</td>\n",
       "      <td>-3.466947</td>\n",
       "      <td>-0.588244</td>\n",
       "      <td>-0.109220</td>\n",
       "      <td>0.451921</td>\n",
       "      <td>12.030603</td>\n",
       "    </tr>\n",
       "    <tr>\n",
       "      <th>Total_Trans_Amt</th>\n",
       "      <td>10127.0</td>\n",
       "      <td>-5.134192e-16</td>\n",
       "      <td>1.000049</td>\n",
       "      <td>-1.146344</td>\n",
       "      <td>-0.661940</td>\n",
       "      <td>-0.148688</td>\n",
       "      <td>0.099181</td>\n",
       "      <td>4.144855</td>\n",
       "    </tr>\n",
       "    <tr>\n",
       "      <th>Total_Trans_Ct</th>\n",
       "      <td>10127.0</td>\n",
       "      <td>1.194179e-14</td>\n",
       "      <td>1.000049</td>\n",
       "      <td>-2.337256</td>\n",
       "      <td>-0.846080</td>\n",
       "      <td>0.091230</td>\n",
       "      <td>0.687701</td>\n",
       "      <td>3.158792</td>\n",
       "    </tr>\n",
       "    <tr>\n",
       "      <th>Total_Ct_Chng_Q4_Q1</th>\n",
       "      <td>10127.0</td>\n",
       "      <td>-1.306570e-16</td>\n",
       "      <td>1.000049</td>\n",
       "      <td>-2.991597</td>\n",
       "      <td>-0.546982</td>\n",
       "      <td>-0.042938</td>\n",
       "      <td>0.444305</td>\n",
       "      <td>12.608573</td>\n",
       "    </tr>\n",
       "    <tr>\n",
       "      <th>Avg_Utilization_Ratio</th>\n",
       "      <td>10127.0</td>\n",
       "      <td>-2.298338e-16</td>\n",
       "      <td>1.000049</td>\n",
       "      <td>-0.997155</td>\n",
       "      <td>-0.913724</td>\n",
       "      <td>-0.358729</td>\n",
       "      <td>0.827438</td>\n",
       "      <td>2.626640</td>\n",
       "    </tr>\n",
       "    <tr>\n",
       "      <th>Gender_M</th>\n",
       "      <td>10127.0</td>\n",
       "      <td>4.709193e-01</td>\n",
       "      <td>0.499178</td>\n",
       "      <td>0.000000</td>\n",
       "      <td>0.000000</td>\n",
       "      <td>0.000000</td>\n",
       "      <td>1.000000</td>\n",
       "      <td>1.000000</td>\n",
       "    </tr>\n",
       "    <tr>\n",
       "      <th>Education_Level_Doctorate</th>\n",
       "      <td>10127.0</td>\n",
       "      <td>4.453441e-02</td>\n",
       "      <td>0.206289</td>\n",
       "      <td>0.000000</td>\n",
       "      <td>0.000000</td>\n",
       "      <td>0.000000</td>\n",
       "      <td>0.000000</td>\n",
       "      <td>1.000000</td>\n",
       "    </tr>\n",
       "    <tr>\n",
       "      <th>Education_Level_Graduate</th>\n",
       "      <td>10127.0</td>\n",
       "      <td>3.088773e-01</td>\n",
       "      <td>0.462053</td>\n",
       "      <td>0.000000</td>\n",
       "      <td>0.000000</td>\n",
       "      <td>0.000000</td>\n",
       "      <td>1.000000</td>\n",
       "      <td>1.000000</td>\n",
       "    </tr>\n",
       "    <tr>\n",
       "      <th>Education_Level_High School</th>\n",
       "      <td>10127.0</td>\n",
       "      <td>1.987756e-01</td>\n",
       "      <td>0.399098</td>\n",
       "      <td>0.000000</td>\n",
       "      <td>0.000000</td>\n",
       "      <td>0.000000</td>\n",
       "      <td>0.000000</td>\n",
       "      <td>1.000000</td>\n",
       "    </tr>\n",
       "    <tr>\n",
       "      <th>Education_Level_Post-Graduate</th>\n",
       "      <td>10127.0</td>\n",
       "      <td>5.095290e-02</td>\n",
       "      <td>0.219912</td>\n",
       "      <td>0.000000</td>\n",
       "      <td>0.000000</td>\n",
       "      <td>0.000000</td>\n",
       "      <td>0.000000</td>\n",
       "      <td>1.000000</td>\n",
       "    </tr>\n",
       "    <tr>\n",
       "      <th>Education_Level_Uneducated</th>\n",
       "      <td>10127.0</td>\n",
       "      <td>1.468352e-01</td>\n",
       "      <td>0.353959</td>\n",
       "      <td>0.000000</td>\n",
       "      <td>0.000000</td>\n",
       "      <td>0.000000</td>\n",
       "      <td>0.000000</td>\n",
       "      <td>1.000000</td>\n",
       "    </tr>\n",
       "    <tr>\n",
       "      <th>Education_Level_Unknown</th>\n",
       "      <td>10127.0</td>\n",
       "      <td>1.499951e-01</td>\n",
       "      <td>0.357084</td>\n",
       "      <td>0.000000</td>\n",
       "      <td>0.000000</td>\n",
       "      <td>0.000000</td>\n",
       "      <td>0.000000</td>\n",
       "      <td>1.000000</td>\n",
       "    </tr>\n",
       "    <tr>\n",
       "      <th>Marital_Status_Married</th>\n",
       "      <td>10127.0</td>\n",
       "      <td>4.628222e-01</td>\n",
       "      <td>0.498641</td>\n",
       "      <td>0.000000</td>\n",
       "      <td>0.000000</td>\n",
       "      <td>0.000000</td>\n",
       "      <td>1.000000</td>\n",
       "      <td>1.000000</td>\n",
       "    </tr>\n",
       "    <tr>\n",
       "      <th>Marital_Status_Single</th>\n",
       "      <td>10127.0</td>\n",
       "      <td>3.893552e-01</td>\n",
       "      <td>0.487628</td>\n",
       "      <td>0.000000</td>\n",
       "      <td>0.000000</td>\n",
       "      <td>0.000000</td>\n",
       "      <td>1.000000</td>\n",
       "      <td>1.000000</td>\n",
       "    </tr>\n",
       "    <tr>\n",
       "      <th>Marital_Status_Unknown</th>\n",
       "      <td>10127.0</td>\n",
       "      <td>7.396070e-02</td>\n",
       "      <td>0.261720</td>\n",
       "      <td>0.000000</td>\n",
       "      <td>0.000000</td>\n",
       "      <td>0.000000</td>\n",
       "      <td>0.000000</td>\n",
       "      <td>1.000000</td>\n",
       "    </tr>\n",
       "    <tr>\n",
       "      <th>Card_Category_Gold</th>\n",
       "      <td>10127.0</td>\n",
       "      <td>1.145453e-02</td>\n",
       "      <td>0.106416</td>\n",
       "      <td>0.000000</td>\n",
       "      <td>0.000000</td>\n",
       "      <td>0.000000</td>\n",
       "      <td>0.000000</td>\n",
       "      <td>1.000000</td>\n",
       "    </tr>\n",
       "    <tr>\n",
       "      <th>Card_Category_Platinum</th>\n",
       "      <td>10127.0</td>\n",
       "      <td>1.974919e-03</td>\n",
       "      <td>0.044398</td>\n",
       "      <td>0.000000</td>\n",
       "      <td>0.000000</td>\n",
       "      <td>0.000000</td>\n",
       "      <td>0.000000</td>\n",
       "      <td>1.000000</td>\n",
       "    </tr>\n",
       "    <tr>\n",
       "      <th>Card_Category_Silver</th>\n",
       "      <td>10127.0</td>\n",
       "      <td>5.480399e-02</td>\n",
       "      <td>0.227608</td>\n",
       "      <td>0.000000</td>\n",
       "      <td>0.000000</td>\n",
       "      <td>0.000000</td>\n",
       "      <td>0.000000</td>\n",
       "      <td>1.000000</td>\n",
       "    </tr>\n",
       "  </tbody>\n",
       "</table>\n",
       "</div>"
      ],
      "text/plain": [
       "                                 count          mean       std       min  \\\n",
       "Attrition_Flag                 10127.0  8.393404e-01  0.367235  0.000000   \n",
       "Customer_Age                   10127.0  3.127744e-17  1.000049 -2.535541   \n",
       "Dependent_count                10127.0  5.680062e-15  1.000049 -1.806378   \n",
       "Income_Category                10127.0  1.771029e-15  1.000049 -1.414457   \n",
       "Months_on_book                 10127.0 -5.687166e-16  1.000049 -2.871068   \n",
       "Total_Relationship_Count       10127.0  8.453372e-15  1.000049 -1.809512   \n",
       "Months_Inactive_12_mon         10127.0 -2.129892e-15  1.000049 -2.316674   \n",
       "Contacts_Count_12_mon          10127.0  1.588144e-15  1.000049 -2.219655   \n",
       "Credit_Limit                   10127.0  9.430893e-16  1.000049 -0.791527   \n",
       "Total_Revolving_Bal            10127.0 -1.830898e-15  1.000049 -1.426858   \n",
       "Avg_Open_To_Buy                10127.0 -4.386159e-17  1.000049 -0.821336   \n",
       "Total_Amt_Chng_Q4_Q1           10127.0  2.801869e-16  1.000049 -3.466947   \n",
       "Total_Trans_Amt                10127.0 -5.134192e-16  1.000049 -1.146344   \n",
       "Total_Trans_Ct                 10127.0  1.194179e-14  1.000049 -2.337256   \n",
       "Total_Ct_Chng_Q4_Q1            10127.0 -1.306570e-16  1.000049 -2.991597   \n",
       "Avg_Utilization_Ratio          10127.0 -2.298338e-16  1.000049 -0.997155   \n",
       "Gender_M                       10127.0  4.709193e-01  0.499178  0.000000   \n",
       "Education_Level_Doctorate      10127.0  4.453441e-02  0.206289  0.000000   \n",
       "Education_Level_Graduate       10127.0  3.088773e-01  0.462053  0.000000   \n",
       "Education_Level_High School    10127.0  1.987756e-01  0.399098  0.000000   \n",
       "Education_Level_Post-Graduate  10127.0  5.095290e-02  0.219912  0.000000   \n",
       "Education_Level_Uneducated     10127.0  1.468352e-01  0.353959  0.000000   \n",
       "Education_Level_Unknown        10127.0  1.499951e-01  0.357084  0.000000   \n",
       "Marital_Status_Married         10127.0  4.628222e-01  0.498641  0.000000   \n",
       "Marital_Status_Single          10127.0  3.893552e-01  0.487628  0.000000   \n",
       "Marital_Status_Unknown         10127.0  7.396070e-02  0.261720  0.000000   \n",
       "Card_Category_Gold             10127.0  1.145453e-02  0.106416  0.000000   \n",
       "Card_Category_Platinum         10127.0  1.974919e-03  0.044398  0.000000   \n",
       "Card_Category_Silver           10127.0  5.480399e-02  0.227608  0.000000   \n",
       "\n",
       "                                    25%       50%       75%        max  \n",
       "Attrition_Flag                 1.000000  1.000000  1.000000   1.000000  \n",
       "Customer_Age                  -0.664382 -0.040662  0.707802   3.327426  \n",
       "Dependent_count               -1.036462 -0.266547  0.503368   2.043199  \n",
       "Income_Category               -0.736292 -0.058127  0.620039   1.976370  \n",
       "Months_on_book                -0.617129  0.008965  0.509840   2.513340  \n",
       "Total_Relationship_Count      -0.522785  0.120579  0.763943   1.407306  \n",
       "Months_Inactive_12_mon        -0.337598 -0.337598  0.651940   3.620555  \n",
       "Contacts_Count_12_mon         -0.411616 -0.411616  0.492404   3.204463  \n",
       "Credit_Limit                  -0.668655 -0.449252  0.267986   2.848054  \n",
       "Total_Revolving_Bal           -0.986339  0.138887  0.762241   1.661686  \n",
       "Avg_Open_To_Buy               -0.675960 -0.439498  0.262904   2.975375  \n",
       "Total_Amt_Chng_Q4_Q1          -0.588244 -0.109220  0.451921  12.030603  \n",
       "Total_Trans_Amt               -0.661940 -0.148688  0.099181   4.144855  \n",
       "Total_Trans_Ct                -0.846080  0.091230  0.687701   3.158792  \n",
       "Total_Ct_Chng_Q4_Q1           -0.546982 -0.042938  0.444305  12.608573  \n",
       "Avg_Utilization_Ratio         -0.913724 -0.358729  0.827438   2.626640  \n",
       "Gender_M                       0.000000  0.000000  1.000000   1.000000  \n",
       "Education_Level_Doctorate      0.000000  0.000000  0.000000   1.000000  \n",
       "Education_Level_Graduate       0.000000  0.000000  1.000000   1.000000  \n",
       "Education_Level_High School    0.000000  0.000000  0.000000   1.000000  \n",
       "Education_Level_Post-Graduate  0.000000  0.000000  0.000000   1.000000  \n",
       "Education_Level_Uneducated     0.000000  0.000000  0.000000   1.000000  \n",
       "Education_Level_Unknown        0.000000  0.000000  0.000000   1.000000  \n",
       "Marital_Status_Married         0.000000  0.000000  1.000000   1.000000  \n",
       "Marital_Status_Single          0.000000  0.000000  1.000000   1.000000  \n",
       "Marital_Status_Unknown         0.000000  0.000000  0.000000   1.000000  \n",
       "Card_Category_Gold             0.000000  0.000000  0.000000   1.000000  \n",
       "Card_Category_Platinum         0.000000  0.000000  0.000000   1.000000  \n",
       "Card_Category_Silver           0.000000  0.000000  0.000000   1.000000  "
      ]
     },
     "execution_count": 35,
     "metadata": {},
     "output_type": "execute_result"
    }
   ],
   "source": [
    "df_pro.describe().T"
   ]
  },
  {
   "cell_type": "markdown",
   "id": "559a91eb",
   "metadata": {},
   "source": [
    "## Data split into Training and Testing set "
   ]
  },
  {
   "cell_type": "code",
   "execution_count": 36,
   "id": "d60cb75a",
   "metadata": {},
   "outputs": [],
   "source": [
    "from sklearn.model_selection import train_test_split\n",
    "\n",
    "x= df_pro[feat_cols]\n",
    "y= df_pro[tar_col]"
   ]
  },
  {
   "cell_type": "code",
   "execution_count": 37,
   "id": "456c72fb",
   "metadata": {},
   "outputs": [],
   "source": [
    "x_train, x_test, y_train, y_test= train_test_split(x, y, test_size=0.3, random_state= 42)"
   ]
  },
  {
   "cell_type": "code",
   "execution_count": 38,
   "id": "047644b5",
   "metadata": {},
   "outputs": [
    {
     "name": "stdout",
     "output_type": "stream",
     "text": [
      "Original Set-  \n",
      " 1    0.83934\n",
      "0    0.16066\n",
      "Name: Attrition_Flag, dtype: float64\n",
      "\n",
      "\n",
      "Training Set-  \n",
      " 1    0.840435\n",
      "0    0.159565\n",
      "Name: Attrition_Flag, dtype: float64\n",
      "\n",
      "\n",
      "Testing Set-  \n",
      " 1    0.836788\n",
      "0    0.163212\n",
      "Name: Attrition_Flag, dtype: float64\n"
     ]
    }
   ],
   "source": [
    "print('Original Set- ','\\n',y.value_counts(normalize=True))\n",
    "print('\\n')\n",
    "print('Training Set- ','\\n',y_train.value_counts(normalize=True))\n",
    "print('\\n')\n",
    "print('Testing Set- ','\\n', y_test.value_counts(normalize=True))"
   ]
  },
  {
   "cell_type": "markdown",
   "id": "45bed1d8",
   "metadata": {},
   "source": [
    "## Model Development "
   ]
  },
  {
   "cell_type": "code",
   "execution_count": 39,
   "id": "6933e567",
   "metadata": {},
   "outputs": [],
   "source": [
    "from sklearn.linear_model import LogisticRegression\n",
    "from sklearn.neighbors import KNeighborsClassifier\n",
    "from sklearn.tree import DecisionTreeClassifier\n",
    "from sklearn.ensemble import RandomForestClassifier, GradientBoostingClassifier\n",
    "from sklearn.svm import SVC, LinearSVC"
   ]
  },
  {
   "cell_type": "code",
   "execution_count": 40,
   "id": "163efd6e",
   "metadata": {},
   "outputs": [],
   "source": [
    "from sklearn.metrics import confusion_matrix, precision_score, recall_score, f1_score, classification_report,accuracy_score"
   ]
  },
  {
   "cell_type": "code",
   "execution_count": 41,
   "id": "22e8f739",
   "metadata": {},
   "outputs": [],
   "source": [
    "lr= LogisticRegression()\n",
    "knn= KNeighborsClassifier()\n",
    "dt= DecisionTreeClassifier()\n",
    "rf= RandomForestClassifier()\n",
    "gb= GradientBoostingClassifier()\n",
    "l_svm= LinearSVC()\n",
    "k_svm= SVC()"
   ]
  },
  {
   "cell_type": "code",
   "execution_count": 42,
   "id": "938a13e2",
   "metadata": {},
   "outputs": [],
   "source": [
    "models= [lr, knn, dt, rf, gb, l_svm, k_svm]\n",
    "labels= ['Logistic Regression','K-Nearest Neighbor','Decision Tree','Random Forest',\n",
    "         'Gradient Boosting', 'Linear SVM', 'kernel SVM']\n",
    "\n",
    "results= list()\n",
    "\n",
    "for mod, lab in zip(models, labels):\n",
    "    mod.fit(x_train, y_train)\n",
    "    y_train_pred= mod.predict(x_train)\n",
    "    y_test_pred= mod.predict(x_test)\n",
    "    \n",
    "    results.append(pd.Series({'Train':f1_score(y_train, y_train_pred),\n",
    "                             'Test':f1_score(y_test, y_test_pred)},name=lab))\n",
    "                  \n",
    "    \n",
    "results= pd.concat(results, axis=1).T    "
   ]
  },
  {
   "cell_type": "code",
   "execution_count": 43,
   "id": "352c33fc",
   "metadata": {},
   "outputs": [
    {
     "data": {
      "text/html": [
       "<div>\n",
       "<style scoped>\n",
       "    .dataframe tbody tr th:only-of-type {\n",
       "        vertical-align: middle;\n",
       "    }\n",
       "\n",
       "    .dataframe tbody tr th {\n",
       "        vertical-align: top;\n",
       "    }\n",
       "\n",
       "    .dataframe thead th {\n",
       "        text-align: right;\n",
       "    }\n",
       "</style>\n",
       "<table border=\"1\" class=\"dataframe\">\n",
       "  <thead>\n",
       "    <tr style=\"text-align: right;\">\n",
       "      <th></th>\n",
       "      <th>Train</th>\n",
       "      <th>Test</th>\n",
       "    </tr>\n",
       "  </thead>\n",
       "  <tbody>\n",
       "    <tr>\n",
       "      <th>Gradient Boosting</th>\n",
       "      <td>0.986000</td>\n",
       "      <td>0.977821</td>\n",
       "    </tr>\n",
       "    <tr>\n",
       "      <th>Random Forest</th>\n",
       "      <td>1.000000</td>\n",
       "      <td>0.971926</td>\n",
       "    </tr>\n",
       "    <tr>\n",
       "      <th>kernel SVM</th>\n",
       "      <td>0.972218</td>\n",
       "      <td>0.961938</td>\n",
       "    </tr>\n",
       "    <tr>\n",
       "      <th>Decision Tree</th>\n",
       "      <td>1.000000</td>\n",
       "      <td>0.957990</td>\n",
       "    </tr>\n",
       "    <tr>\n",
       "      <th>K-Nearest Neighbor</th>\n",
       "      <td>0.962993</td>\n",
       "      <td>0.944201</td>\n",
       "    </tr>\n",
       "    <tr>\n",
       "      <th>Linear SVM</th>\n",
       "      <td>0.945514</td>\n",
       "      <td>0.942165</td>\n",
       "    </tr>\n",
       "    <tr>\n",
       "      <th>Logistic Regression</th>\n",
       "      <td>0.945407</td>\n",
       "      <td>0.941469</td>\n",
       "    </tr>\n",
       "  </tbody>\n",
       "</table>\n",
       "</div>"
      ],
      "text/plain": [
       "                        Train      Test\n",
       "Gradient Boosting    0.986000  0.977821\n",
       "Random Forest        1.000000  0.971926\n",
       "kernel SVM           0.972218  0.961938\n",
       "Decision Tree        1.000000  0.957990\n",
       "K-Nearest Neighbor   0.962993  0.944201\n",
       "Linear SVM           0.945514  0.942165\n",
       "Logistic Regression  0.945407  0.941469"
      ]
     },
     "execution_count": 43,
     "metadata": {},
     "output_type": "execute_result"
    }
   ],
   "source": [
    "results= results.sort_values(by='Test',ascending=False)\n",
    "results"
   ]
  },
  {
   "cell_type": "markdown",
   "id": "32c6be6e",
   "metadata": {},
   "source": [
    "Clearly, Gradient Boosting performing better than the rest and it is also overcoming the problem of overfitting on the other hand Random forest and Decision Tree look overfitted. We will select Gradient boosting for the final model and will try to optimize and reduce the overfitting using different hyper-parameters and feature engineering."
   ]
  },
  {
   "cell_type": "markdown",
   "id": "bd5e314c",
   "metadata": {},
   "source": [
    "## Final Model- Gradient Boosting "
   ]
  },
  {
   "cell_type": "code",
   "execution_count": 44,
   "id": "621e522c",
   "metadata": {},
   "outputs": [],
   "source": [
    "from sklearn.model_selection import GridSearchCV"
   ]
  },
  {
   "cell_type": "code",
   "execution_count": 45,
   "id": "f59d1d15",
   "metadata": {},
   "outputs": [],
   "source": [
    "params= {'max_depth':range(1,gb.max_depth+1,2),\n",
    "         'max_features':range(1,len(gb.feature_importances_+1))\n",
    "        }\n",
    "                                                                                             \n",
    "\n",
    "gs_gb= GridSearchCV(param_grid= params,\n",
    "                   estimator= gb,\n",
    "                   cv=6,\n",
    "                   scoring='accuracy',\n",
    "                   n_jobs=-1).fit(x_train, y_train)\n",
    "\n",
    "y_train_pred= gs_gb.predict(x_train)\n",
    "y_test_pred= gs_gb.predict(x_test)"
   ]
  },
  {
   "cell_type": "code",
   "execution_count": 46,
   "id": "240debc7",
   "metadata": {},
   "outputs": [],
   "source": [
    "def get_evaluation(y_true, y_pred,label):\n",
    "    return pd.Series({\n",
    "                     'accuracy':accuracy_score(y_true, y_pred),\n",
    "                     'precision':precision_score(y_true, y_pred),\n",
    "                     'recall':recall_score(y_true, y_pred),\n",
    "                     'f1_score':f1_score(y_true, y_pred)\n",
    "    },name=label)\n",
    "    "
   ]
  },
  {
   "cell_type": "code",
   "execution_count": 47,
   "id": "9b6ff44c",
   "metadata": {},
   "outputs": [
    {
     "name": "stdout",
     "output_type": "stream",
     "text": [
      "Train Results \n",
      "               precision    recall  f1-score   support\n",
      "\n",
      "           0       0.96      0.89      0.92      1131\n",
      "           1       0.98      0.99      0.99      5957\n",
      "\n",
      "    accuracy                           0.98      7088\n",
      "   macro avg       0.97      0.94      0.96      7088\n",
      "weighted avg       0.98      0.98      0.98      7088\n",
      "\n",
      "Test Results-  \n",
      "               precision    recall  f1-score   support\n",
      "\n",
      "           0       0.92      0.83      0.87       496\n",
      "           1       0.97      0.99      0.98      2543\n",
      "\n",
      "    accuracy                           0.96      3039\n",
      "   macro avg       0.95      0.91      0.92      3039\n",
      "weighted avg       0.96      0.96      0.96      3039\n",
      "\n",
      "\n",
      "\n"
     ]
    },
    {
     "data": {
      "text/html": [
       "<div>\n",
       "<style scoped>\n",
       "    .dataframe tbody tr th:only-of-type {\n",
       "        vertical-align: middle;\n",
       "    }\n",
       "\n",
       "    .dataframe tbody tr th {\n",
       "        vertical-align: top;\n",
       "    }\n",
       "\n",
       "    .dataframe thead th {\n",
       "        text-align: right;\n",
       "    }\n",
       "</style>\n",
       "<table border=\"1\" class=\"dataframe\">\n",
       "  <thead>\n",
       "    <tr style=\"text-align: right;\">\n",
       "      <th></th>\n",
       "      <th>train</th>\n",
       "      <th>test</th>\n",
       "    </tr>\n",
       "  </thead>\n",
       "  <tbody>\n",
       "    <tr>\n",
       "      <th>accuracy</th>\n",
       "      <td>0.976721</td>\n",
       "      <td>0.960513</td>\n",
       "    </tr>\n",
       "    <tr>\n",
       "      <th>precision</th>\n",
       "      <td>0.979153</td>\n",
       "      <td>0.966859</td>\n",
       "    </tr>\n",
       "    <tr>\n",
       "      <th>recall</th>\n",
       "      <td>0.993453</td>\n",
       "      <td>0.986630</td>\n",
       "    </tr>\n",
       "    <tr>\n",
       "      <th>f1_score</th>\n",
       "      <td>0.986251</td>\n",
       "      <td>0.976645</td>\n",
       "    </tr>\n",
       "  </tbody>\n",
       "</table>\n",
       "</div>"
      ],
      "text/plain": [
       "              train      test\n",
       "accuracy   0.976721  0.960513\n",
       "precision  0.979153  0.966859\n",
       "recall     0.993453  0.986630\n",
       "f1_score   0.986251  0.976645"
      ]
     },
     "execution_count": 47,
     "metadata": {},
     "output_type": "execute_result"
    }
   ],
   "source": [
    "results= pd.concat([get_evaluation(y_train, y_train_pred,'train'), get_evaluation(y_test, y_test_pred,'test')], axis=1)\n",
    "print('Train Results', '\\n',classification_report(y_train, y_train_pred))\n",
    "print('Test Results- ','\\n',classification_report(y_test, y_test_pred))\n",
    "print('\\n')\n",
    "results"
   ]
  },
  {
   "cell_type": "markdown",
   "id": "b0796352",
   "metadata": {},
   "source": [
    "## Feature Importance "
   ]
  },
  {
   "cell_type": "code",
   "execution_count": 48,
   "id": "44fad494",
   "metadata": {},
   "outputs": [],
   "source": [
    "feat_imp_df= pd.DataFrame(gs_gb.best_estimator_.feature_importances_, index=x.columns, \n",
    "             columns={'feat_imp':0}).sort_values(by='feat_imp',ascending=False)                     "
   ]
  },
  {
   "cell_type": "code",
   "execution_count": 49,
   "id": "f2f02d8b",
   "metadata": {},
   "outputs": [
    {
     "data": {
      "image/png": "[encoded data removed]",
      "text/plain": [
       "<Figure size 1008x504 with 1 Axes>"
      ]
     },
     "metadata": {},
     "output_type": "display_data"
    }
   ],
   "source": [
    "ax= feat_imp_df.plot(kind='bar',figsize=(14,7))\n",
    "ax.set(xlabel='Features', ylabel= 'Feature Importance',title='Role of each feature')\n",
    "ax.get_legend().remove();"
   ]
  },
  {
   "cell_type": "code",
   "execution_count": 50,
   "id": "081a27d6",
   "metadata": {},
   "outputs": [
    {
     "data": {
      "text/plain": [
       "['Total_Trans_Ct',\n",
       " 'Total_Trans_Amt',\n",
       " 'Total_Revolving_Bal',\n",
       " 'Total_Ct_Chng_Q4_Q1',\n",
       " 'Total_Relationship_Count']"
      ]
     },
     "execution_count": 50,
     "metadata": {},
     "output_type": "execute_result"
    }
   ],
   "source": [
    "imp_feats= list(feat_imp_df[feat_imp_df['feat_imp'] >0.07].index)\n",
    "imp_feats"
   ]
  },
  {
   "cell_type": "code",
   "execution_count": 51,
   "id": "d6925342",
   "metadata": {},
   "outputs": [
    {
     "data": {
      "text/html": [
       "<div>\n",
       "<style scoped>\n",
       "    .dataframe tbody tr th:only-of-type {\n",
       "        vertical-align: middle;\n",
       "    }\n",
       "\n",
       "    .dataframe tbody tr th {\n",
       "        vertical-align: top;\n",
       "    }\n",
       "\n",
       "    .dataframe thead th {\n",
       "        text-align: right;\n",
       "    }\n",
       "</style>\n",
       "<table border=\"1\" class=\"dataframe\">\n",
       "  <thead>\n",
       "    <tr style=\"text-align: right;\">\n",
       "      <th></th>\n",
       "      <th>Total_Trans_Ct</th>\n",
       "      <th>Total_Trans_Amt</th>\n",
       "      <th>Total_Revolving_Bal</th>\n",
       "      <th>Total_Ct_Chng_Q4_Q1</th>\n",
       "      <th>Total_Relationship_Count</th>\n",
       "    </tr>\n",
       "  </thead>\n",
       "  <tbody>\n",
       "    <tr>\n",
       "      <th>0</th>\n",
       "      <td>-0.973895</td>\n",
       "      <td>-0.959707</td>\n",
       "      <td>-0.473422</td>\n",
       "      <td>3.834003</td>\n",
       "      <td>0.763943</td>\n",
       "    </tr>\n",
       "    <tr>\n",
       "      <th>1</th>\n",
       "      <td>-1.357340</td>\n",
       "      <td>-0.916433</td>\n",
       "      <td>-0.366667</td>\n",
       "      <td>12.608573</td>\n",
       "      <td>1.407306</td>\n",
       "    </tr>\n",
       "    <tr>\n",
       "      <th>2</th>\n",
       "      <td>-1.911206</td>\n",
       "      <td>-0.740982</td>\n",
       "      <td>-1.426858</td>\n",
       "      <td>6.807864</td>\n",
       "      <td>0.120579</td>\n",
       "    </tr>\n",
       "    <tr>\n",
       "      <th>3</th>\n",
       "      <td>-1.911206</td>\n",
       "      <td>-0.951758</td>\n",
       "      <td>1.661686</td>\n",
       "      <td>6.807864</td>\n",
       "      <td>-0.522785</td>\n",
       "    </tr>\n",
       "    <tr>\n",
       "      <th>4</th>\n",
       "      <td>-1.570365</td>\n",
       "      <td>-1.056263</td>\n",
       "      <td>-1.426858</td>\n",
       "      <td>7.509325</td>\n",
       "      <td>0.763943</td>\n",
       "    </tr>\n",
       "    <tr>\n",
       "      <th>...</th>\n",
       "      <td>...</td>\n",
       "      <td>...</td>\n",
       "      <td>...</td>\n",
       "      <td>...</td>\n",
       "      <td>...</td>\n",
       "    </tr>\n",
       "    <tr>\n",
       "      <th>10122</th>\n",
       "      <td>2.221481</td>\n",
       "      <td>3.259358</td>\n",
       "      <td>0.844455</td>\n",
       "      <td>0.608119</td>\n",
       "      <td>-0.522785</td>\n",
       "    </tr>\n",
       "    <tr>\n",
       "      <th>10123</th>\n",
       "      <td>0.176440</td>\n",
       "      <td>1.283475</td>\n",
       "      <td>1.255524</td>\n",
       "      <td>-0.122745</td>\n",
       "      <td>0.120579</td>\n",
       "    </tr>\n",
       "    <tr>\n",
       "      <th>10124</th>\n",
       "      <td>-0.207005</td>\n",
       "      <td>1.732994</td>\n",
       "      <td>-1.426858</td>\n",
       "      <td>0.444305</td>\n",
       "      <td>0.763943</td>\n",
       "    </tr>\n",
       "    <tr>\n",
       "      <th>10125</th>\n",
       "      <td>-0.121795</td>\n",
       "      <td>1.174848</td>\n",
       "      <td>-1.426858</td>\n",
       "      <td>0.041070</td>\n",
       "      <td>0.120579</td>\n",
       "    </tr>\n",
       "    <tr>\n",
       "      <th>10126</th>\n",
       "      <td>-0.164400</td>\n",
       "      <td>1.733877</td>\n",
       "      <td>0.979433</td>\n",
       "      <td>-0.265557</td>\n",
       "      <td>1.407306</td>\n",
       "    </tr>\n",
       "  </tbody>\n",
       "</table>\n",
       "<p>10127 rows × 5 columns</p>\n",
       "</div>"
      ],
      "text/plain": [
       "       Total_Trans_Ct  Total_Trans_Amt  Total_Revolving_Bal  \\\n",
       "0           -0.973895        -0.959707            -0.473422   \n",
       "1           -1.357340        -0.916433            -0.366667   \n",
       "2           -1.911206        -0.740982            -1.426858   \n",
       "3           -1.911206        -0.951758             1.661686   \n",
       "4           -1.570365        -1.056263            -1.426858   \n",
       "...               ...              ...                  ...   \n",
       "10122        2.221481         3.259358             0.844455   \n",
       "10123        0.176440         1.283475             1.255524   \n",
       "10124       -0.207005         1.732994            -1.426858   \n",
       "10125       -0.121795         1.174848            -1.426858   \n",
       "10126       -0.164400         1.733877             0.979433   \n",
       "\n",
       "       Total_Ct_Chng_Q4_Q1  Total_Relationship_Count  \n",
       "0                 3.834003                  0.763943  \n",
       "1                12.608573                  1.407306  \n",
       "2                 6.807864                  0.120579  \n",
       "3                 6.807864                 -0.522785  \n",
       "4                 7.509325                  0.763943  \n",
       "...                    ...                       ...  \n",
       "10122             0.608119                 -0.522785  \n",
       "10123            -0.122745                  0.120579  \n",
       "10124             0.444305                  0.763943  \n",
       "10125             0.041070                  0.120579  \n",
       "10126            -0.265557                  1.407306  \n",
       "\n",
       "[10127 rows x 5 columns]"
      ]
     },
     "execution_count": 51,
     "metadata": {},
     "output_type": "execute_result"
    }
   ],
   "source": [
    "x2= df_pro[imp_feats]\n",
    "x2"
   ]
  },
  {
   "cell_type": "markdown",
   "id": "ecb5e593",
   "metadata": {},
   "source": [
    "## Reducing features on the basis of their Importance"
   ]
  },
  {
   "cell_type": "code",
   "execution_count": 52,
   "id": "94641564",
   "metadata": {},
   "outputs": [],
   "source": [
    "x_train, x_test, y_train, y_test= train_test_split(x2, y, test_size=0.3, random_state=42)"
   ]
  },
  {
   "cell_type": "code",
   "execution_count": 53,
   "id": "18a224ea",
   "metadata": {},
   "outputs": [],
   "source": [
    "params= {'max_depth':range(1,gb.max_depth+1,2),\n",
    "         'max_features':range(1,len(gb.feature_importances_+1))\n",
    "        }\n",
    "                                                                                             \n",
    "\n",
    "gs_gb= GridSearchCV(param_grid= params,\n",
    "                   estimator= gb,\n",
    "                   cv=6,\n",
    "                   scoring='accuracy',\n",
    "                   n_jobs=-1).fit(x_train, y_train)\n",
    "\n",
    "y_train_pred= gs_gb.predict(x_train)\n",
    "y_test_pred= gs_gb.predict(x_test)"
   ]
  },
  {
   "cell_type": "code",
   "execution_count": 54,
   "id": "54b5c5f6",
   "metadata": {},
   "outputs": [
    {
     "name": "stdout",
     "output_type": "stream",
     "text": [
      "Train Results \n",
      "               precision    recall  f1-score   support\n",
      "\n",
      "           0       0.91      0.83      0.87      1131\n",
      "           1       0.97      0.98      0.98      5957\n",
      "\n",
      "    accuracy                           0.96      7088\n",
      "   macro avg       0.94      0.91      0.92      7088\n",
      "weighted avg       0.96      0.96      0.96      7088\n",
      "\n",
      "Test Results-  \n",
      "               precision    recall  f1-score   support\n",
      "\n",
      "           0       0.89      0.78      0.83       496\n",
      "           1       0.96      0.98      0.97      2543\n",
      "\n",
      "    accuracy                           0.95      3039\n",
      "   macro avg       0.93      0.88      0.90      3039\n",
      "weighted avg       0.95      0.95      0.95      3039\n",
      "\n",
      "\n",
      "\n"
     ]
    },
    {
     "data": {
      "text/html": [
       "<div>\n",
       "<style scoped>\n",
       "    .dataframe tbody tr th:only-of-type {\n",
       "        vertical-align: middle;\n",
       "    }\n",
       "\n",
       "    .dataframe tbody tr th {\n",
       "        vertical-align: top;\n",
       "    }\n",
       "\n",
       "    .dataframe thead th {\n",
       "        text-align: right;\n",
       "    }\n",
       "</style>\n",
       "<table border=\"1\" class=\"dataframe\">\n",
       "  <thead>\n",
       "    <tr style=\"text-align: right;\">\n",
       "      <th></th>\n",
       "      <th>train</th>\n",
       "      <th>test</th>\n",
       "    </tr>\n",
       "  </thead>\n",
       "  <tbody>\n",
       "    <tr>\n",
       "      <th>accuracy</th>\n",
       "      <td>0.959791</td>\n",
       "      <td>0.948338</td>\n",
       "    </tr>\n",
       "    <tr>\n",
       "      <th>precision</th>\n",
       "      <td>0.968605</td>\n",
       "      <td>0.957439</td>\n",
       "    </tr>\n",
       "    <tr>\n",
       "      <th>recall</th>\n",
       "      <td>0.984052</td>\n",
       "      <td>0.981911</td>\n",
       "    </tr>\n",
       "    <tr>\n",
       "      <th>f1_score</th>\n",
       "      <td>0.976268</td>\n",
       "      <td>0.969520</td>\n",
       "    </tr>\n",
       "  </tbody>\n",
       "</table>\n",
       "</div>"
      ],
      "text/plain": [
       "              train      test\n",
       "accuracy   0.959791  0.948338\n",
       "precision  0.968605  0.957439\n",
       "recall     0.984052  0.981911\n",
       "f1_score   0.976268  0.969520"
      ]
     },
     "execution_count": 54,
     "metadata": {},
     "output_type": "execute_result"
    }
   ],
   "source": [
    "results= pd.concat([get_evaluation(y_train, y_train_pred,'train'), get_evaluation(y_test, y_test_pred,'test')], axis=1)\n",
    "print('Train Results', '\\n',classification_report(y_train, y_train_pred))\n",
    "print('Test Results- ','\\n',classification_report(y_test, y_test_pred))\n",
    "print('\\n')\n",
    "results"
   ]
  },
  {
   "cell_type": "markdown",
   "id": "f442e25e",
   "metadata": {},
   "source": [
    "##  K-Means Clustering as Feature Engineering"
   ]
  },
  {
   "cell_type": "code",
   "execution_count": 55,
   "id": "d5fc6539",
   "metadata": {},
   "outputs": [],
   "source": [
    "from sklearn.cluster import KMeans"
   ]
  },
  {
   "cell_type": "code",
   "execution_count": 56,
   "id": "2513bc4d",
   "metadata": {},
   "outputs": [],
   "source": [
    "kmeans= KMeans(n_clusters= 2, max_iter=2000)\n",
    "x2['clusters']= kmeans.fit_predict(x2)"
   ]
  },
  {
   "cell_type": "code",
   "execution_count": 57,
   "id": "915527d7",
   "metadata": {},
   "outputs": [],
   "source": [
    "x_train, x_test, y_train, y_test= train_test_split(x2, y, test_size=0.3, random_state=42)"
   ]
  },
  {
   "cell_type": "code",
   "execution_count": 58,
   "id": "5ce6f124",
   "metadata": {},
   "outputs": [],
   "source": [
    "params= {'max_depth':range(1,gb.max_depth+1,2),\n",
    "         'max_features':range(1,len(gb.feature_importances_+1))\n",
    "        }\n",
    "                                                                                             \n",
    "\n",
    "gs_gb= GridSearchCV(param_grid= params,\n",
    "                   estimator= gb,\n",
    "                   cv=6,\n",
    "                   scoring='accuracy',\n",
    "                   n_jobs=-1).fit(x_train, y_train)\n",
    "\n",
    "y_train_pred= gs_gb.predict(x_train)\n",
    "y_test_pred= gs_gb.predict(x_test)"
   ]
  },
  {
   "cell_type": "code",
   "execution_count": 59,
   "id": "5fc559c3",
   "metadata": {},
   "outputs": [
    {
     "name": "stdout",
     "output_type": "stream",
     "text": [
      "Train Results \n",
      "               precision    recall  f1-score   support\n",
      "\n",
      "           0       0.92      0.83      0.87      1131\n",
      "           1       0.97      0.99      0.98      5957\n",
      "\n",
      "    accuracy                           0.96      7088\n",
      "   macro avg       0.94      0.91      0.93      7088\n",
      "weighted avg       0.96      0.96      0.96      7088\n",
      "\n",
      "Test Results-  \n",
      "               precision    recall  f1-score   support\n",
      "\n",
      "           0       0.90      0.78      0.84       496\n",
      "           1       0.96      0.98      0.97      2543\n",
      "\n",
      "    accuracy                           0.95      3039\n",
      "   macro avg       0.93      0.88      0.90      3039\n",
      "weighted avg       0.95      0.95      0.95      3039\n",
      "\n",
      "\n",
      "\n"
     ]
    },
    {
     "data": {
      "text/html": [
       "<div>\n",
       "<style scoped>\n",
       "    .dataframe tbody tr th:only-of-type {\n",
       "        vertical-align: middle;\n",
       "    }\n",
       "\n",
       "    .dataframe tbody tr th {\n",
       "        vertical-align: top;\n",
       "    }\n",
       "\n",
       "    .dataframe thead th {\n",
       "        text-align: right;\n",
       "    }\n",
       "</style>\n",
       "<table border=\"1\" class=\"dataframe\">\n",
       "  <thead>\n",
       "    <tr style=\"text-align: right;\">\n",
       "      <th></th>\n",
       "      <th>train</th>\n",
       "      <th>test</th>\n",
       "    </tr>\n",
       "  </thead>\n",
       "  <tbody>\n",
       "    <tr>\n",
       "      <th>accuracy</th>\n",
       "      <td>0.961766</td>\n",
       "      <td>0.950313</td>\n",
       "    </tr>\n",
       "    <tr>\n",
       "      <th>precision</th>\n",
       "      <td>0.969142</td>\n",
       "      <td>0.958238</td>\n",
       "    </tr>\n",
       "    <tr>\n",
       "      <th>recall</th>\n",
       "      <td>0.985899</td>\n",
       "      <td>0.983484</td>\n",
       "    </tr>\n",
       "    <tr>\n",
       "      <th>f1_score</th>\n",
       "      <td>0.977449</td>\n",
       "      <td>0.970697</td>\n",
       "    </tr>\n",
       "  </tbody>\n",
       "</table>\n",
       "</div>"
      ],
      "text/plain": [
       "              train      test\n",
       "accuracy   0.961766  0.950313\n",
       "precision  0.969142  0.958238\n",
       "recall     0.985899  0.983484\n",
       "f1_score   0.977449  0.970697"
      ]
     },
     "execution_count": 59,
     "metadata": {},
     "output_type": "execute_result"
    }
   ],
   "source": [
    "results= pd.concat([get_evaluation(y_train, y_train_pred,'train'), get_evaluation(y_test, y_test_pred,'test')], axis=1)\n",
    "print('Train Results', '\\n',classification_report(y_train, y_train_pred))\n",
    "print('Test Results- ','\\n',classification_report(y_test, y_test_pred))\n",
    "print('\\n')\n",
    "results"
   ]
  },
  {
   "cell_type": "code",
   "execution_count": 60,
   "id": "683bf611",
   "metadata": {},
   "outputs": [
    {
     "data": {
      "image/png": "[encoded data removed]",
      "text/plain": [
       "<Figure size 864x504 with 2 Axes>"
      ]
     },
     "metadata": {},
     "output_type": "display_data"
    }
   ],
   "source": [
    "plt.figure(figsize=(12,7))\n",
    "ax= sns.heatmap(confusion_matrix(y_test, y_test_pred), annot=True, fmt='d')\n",
    "label= ['Churn', 'Not Churn']\n",
    "ax.set_xticklabels(label)\n",
    "ax.set_yticklabels(label)\n",
    "ax.set(xlabel='Predicted values',ylabel= 'Actual values', title= 'Confusion Matrix of Test set');"
   ]
  },
  {
   "cell_type": "markdown",
   "id": "3e6361de",
   "metadata": {},
   "source": [
    "After applying Feature Importance and Clustering as feature engineering we see that accuracy went a little low but at the same time overfitting is also reduced specifically in case of recall score. But the numbers did not change drastically, hence we can also continue without removing less important features."
   ]
  },
  {
   "cell_type": "code",
   "execution_count": null,
   "id": "8803fe30",
   "metadata": {},
   "outputs": [],
   "source": []
  }
 ],
 "metadata": {
  "kernelspec": {
   "display_name": "Python 3 (ipykernel)",
   "language": "python",
   "name": "python3"
  },
  "language_info": {
   "codemirror_mode": {
    "name": "ipython",
    "version": 3
   },
   "file_extension": ".py",
   "mimetype": "text/x-python",
   "name": "python",
   "nbconvert_exporter": "python",
   "pygments_lexer": "ipython3",
   "version": "3.9.12"
  }
 },
 "nbformat": 4,
 "nbformat_minor": 5
}
